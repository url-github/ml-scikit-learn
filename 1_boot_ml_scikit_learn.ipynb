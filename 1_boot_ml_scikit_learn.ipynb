{
  "nbformat": 4,
  "nbformat_minor": 0,
  "metadata": {
    "colab": {
      "name": "1.boot-ml-scikit-learn.ipynb",
      "provenance": [],
      "authorship_tag": "ABX9TyO1+hMcvhWiQqKK0ICyRA/W"
    },
    "kernelspec": {
      "name": "python3",
      "display_name": "Python 3"
    },
    "language_info": {
      "name": "python"
    }
  },
  "cells": [
    {
      "cell_type": "markdown",
      "metadata": {
        "id": "gFL3DlT6V953"
      },
      "source": [
        " 0##"
      ]
    },
    {
      "cell_type": "code",
      "metadata": {
        "colab": {
          "base_uri": "https://localhost:8080/"
        },
        "id": "Di0VYABCPYHv",
        "outputId": "93f5d4aa-c95e-40e4-bcba-65ea195ec1c5"
      },
      "source": [
        "import sklearn\n",
        "print(sklearn.__version__)"
      ],
      "execution_count": null,
      "outputs": [
        {
          "output_type": "stream",
          "text": [
            "0.22.2.post1\n"
          ],
          "name": "stdout"
        }
      ]
    },
    {
      "cell_type": "markdown",
      "metadata": {
        "id": "wDg16KGuWE4-"
      },
      "source": [
        "1##"
      ]
    },
    {
      "cell_type": "code",
      "metadata": {
        "colab": {
          "base_uri": "https://localhost:8080/"
        },
        "id": "ybaBYp8JPt2Y",
        "outputId": "7abc36eb-3002-461b-e8c9-ded4a54f95cb"
      },
      "source": [
        "import numpy as np\n",
        "import pandas as pd\n",
        "\n",
        "data = {\n",
        "    'size': ['XL', 'L', 'M', np.nan, 'M', 'M'],\n",
        "    'color': ['red', 'green', 'blue', 'green', 'red', 'green'],\n",
        "    'gender': ['female', 'male', np.nan, 'female', 'female', 'male'],\n",
        "    'price': [199.0, 89.0, np.nan, 129.0, 79.0, 89.0],\n",
        "    'weight': [500, 450, 300, np.nan, 410, np.nan],\n",
        "    'bought': ['yes', 'no', 'yes', 'no', 'yes', 'no']\n",
        "}\n",
        "\n",
        "df = pd.DataFrame(data=data)\n",
        "print(np.round(df.isnull().sum() / len(df), 2))"
      ],
      "execution_count": null,
      "outputs": [
        {
          "output_type": "stream",
          "text": [
            "size      0.17\n",
            "color     0.00\n",
            "gender    0.17\n",
            "price     0.17\n",
            "weight    0.33\n",
            "bought    0.00\n",
            "dtype: float64\n"
          ],
          "name": "stdout"
        }
      ]
    },
    {
      "cell_type": "code",
      "metadata": {
        "colab": {
          "base_uri": "https://localhost:8080/"
        },
        "id": "WV4_EOewTTKi",
        "outputId": "0b8b09cf-c950-4652-a976-b97a40256950"
      },
      "source": [
        "df.isnull().sum()"
      ],
      "execution_count": null,
      "outputs": [
        {
          "output_type": "execute_result",
          "data": {
            "text/plain": [
              "size      1\n",
              "color     0\n",
              "gender    1\n",
              "price     1\n",
              "weight    2\n",
              "bought    0\n",
              "dtype: int64"
            ]
          },
          "metadata": {},
          "execution_count": 13
        }
      ]
    },
    {
      "cell_type": "code",
      "metadata": {
        "colab": {
          "base_uri": "https://localhost:8080/"
        },
        "id": "SK_EkVR3Ue8w",
        "outputId": "f95b57c5-cd33-4aae-d6ef-f2e8dd41c3b7"
      },
      "source": [
        "len(df)"
      ],
      "execution_count": null,
      "outputs": [
        {
          "output_type": "execute_result",
          "data": {
            "text/plain": [
              "6"
            ]
          },
          "metadata": {},
          "execution_count": 14
        }
      ]
    },
    {
      "cell_type": "code",
      "metadata": {
        "colab": {
          "base_uri": "https://localhost:8080/"
        },
        "id": "NdADGn4XVdAp",
        "outputId": "03a26975-a640-4ff7-84fb-cbe31e94bd2e"
      },
      "source": [
        "np.round(df.isnull().sum() / len(df),2)"
      ],
      "execution_count": null,
      "outputs": [
        {
          "output_type": "execute_result",
          "data": {
            "text/plain": [
              "size      0.17\n",
              "color     0.00\n",
              "gender    0.17\n",
              "price     0.17\n",
              "weight    0.33\n",
              "bought    0.00\n",
              "dtype: float64"
            ]
          },
          "metadata": {},
          "execution_count": 15
        }
      ]
    },
    {
      "cell_type": "markdown",
      "metadata": {
        "id": "vqkmqohPWYKI"
      },
      "source": [
        "2##"
      ]
    },
    {
      "cell_type": "code",
      "metadata": {
        "id": "K_ZMhkDCV6GN"
      },
      "source": [
        "import numpy as np\n",
        "import pandas as pd\n",
        "from sklearn.impute import SimpleImputer\n",
        "\n",
        "data = {\n",
        "    'size': ['XL', 'L', 'M', np.nan, 'M', 'M'],\n",
        "    'color': ['red', 'green', 'blue', 'green', 'red', 'green'],\n",
        "    'gender': ['female', 'male', np.nan, 'female', 'female', 'male'],\n",
        "    'price': [199.0, 89.0, np.nan, 129.0, 79.0, 89.0],\n",
        "    'weight': [500, 450, 300, np.nan, 410, np.nan],\n",
        "    'bought': ['yes', 'no', 'yes', 'no', 'yes', 'no']\n",
        "}\n",
        "\n",
        "df = pd.DataFrame(data=data)"
      ],
      "execution_count": null,
      "outputs": []
    },
    {
      "cell_type": "code",
      "metadata": {
        "colab": {
          "base_uri": "https://localhost:8080/",
          "height": 204
        },
        "id": "zLvddIcHW_W0",
        "outputId": "606edd9d-ca0f-4206-dd6e-c5371f675291"
      },
      "source": [
        "df.head()"
      ],
      "execution_count": null,
      "outputs": [
        {
          "output_type": "execute_result",
          "data": {
            "text/html": [
              "<div>\n",
              "<style scoped>\n",
              "    .dataframe tbody tr th:only-of-type {\n",
              "        vertical-align: middle;\n",
              "    }\n",
              "\n",
              "    .dataframe tbody tr th {\n",
              "        vertical-align: top;\n",
              "    }\n",
              "\n",
              "    .dataframe thead th {\n",
              "        text-align: right;\n",
              "    }\n",
              "</style>\n",
              "<table border=\"1\" class=\"dataframe\">\n",
              "  <thead>\n",
              "    <tr style=\"text-align: right;\">\n",
              "      <th></th>\n",
              "      <th>size</th>\n",
              "      <th>color</th>\n",
              "      <th>gender</th>\n",
              "      <th>price</th>\n",
              "      <th>weight</th>\n",
              "      <th>bought</th>\n",
              "    </tr>\n",
              "  </thead>\n",
              "  <tbody>\n",
              "    <tr>\n",
              "      <th>0</th>\n",
              "      <td>XL</td>\n",
              "      <td>red</td>\n",
              "      <td>female</td>\n",
              "      <td>199.0</td>\n",
              "      <td>500.0</td>\n",
              "      <td>yes</td>\n",
              "    </tr>\n",
              "    <tr>\n",
              "      <th>1</th>\n",
              "      <td>L</td>\n",
              "      <td>green</td>\n",
              "      <td>male</td>\n",
              "      <td>89.0</td>\n",
              "      <td>450.0</td>\n",
              "      <td>no</td>\n",
              "    </tr>\n",
              "    <tr>\n",
              "      <th>2</th>\n",
              "      <td>M</td>\n",
              "      <td>blue</td>\n",
              "      <td>NaN</td>\n",
              "      <td>NaN</td>\n",
              "      <td>300.0</td>\n",
              "      <td>yes</td>\n",
              "    </tr>\n",
              "    <tr>\n",
              "      <th>3</th>\n",
              "      <td>NaN</td>\n",
              "      <td>green</td>\n",
              "      <td>female</td>\n",
              "      <td>129.0</td>\n",
              "      <td>NaN</td>\n",
              "      <td>no</td>\n",
              "    </tr>\n",
              "    <tr>\n",
              "      <th>4</th>\n",
              "      <td>M</td>\n",
              "      <td>red</td>\n",
              "      <td>female</td>\n",
              "      <td>79.0</td>\n",
              "      <td>410.0</td>\n",
              "      <td>yes</td>\n",
              "    </tr>\n",
              "  </tbody>\n",
              "</table>\n",
              "</div>"
            ],
            "text/plain": [
              "  size  color  gender  price  weight bought\n",
              "0   XL    red  female  199.0   500.0    yes\n",
              "1    L  green    male   89.0   450.0     no\n",
              "2    M   blue     NaN    NaN   300.0    yes\n",
              "3  NaN  green  female  129.0     NaN     no\n",
              "4    M    red  female   79.0   410.0    yes"
            ]
          },
          "metadata": {},
          "execution_count": 22
        }
      ]
    },
    {
      "cell_type": "code",
      "metadata": {
        "colab": {
          "base_uri": "https://localhost:8080/",
          "height": 204
        },
        "id": "pWb8cRZiXAD0",
        "outputId": "e945c013-7f5c-41b7-82d0-74f19a26a441"
      },
      "source": [
        "imputer = SimpleImputer(missing_values=np.nan, strategy='mean')\n",
        "df[['weight']] = imputer.fit_transform(df[['weight']])\n",
        "df.head()"
      ],
      "execution_count": null,
      "outputs": [
        {
          "output_type": "execute_result",
          "data": {
            "text/html": [
              "<div>\n",
              "<style scoped>\n",
              "    .dataframe tbody tr th:only-of-type {\n",
              "        vertical-align: middle;\n",
              "    }\n",
              "\n",
              "    .dataframe tbody tr th {\n",
              "        vertical-align: top;\n",
              "    }\n",
              "\n",
              "    .dataframe thead th {\n",
              "        text-align: right;\n",
              "    }\n",
              "</style>\n",
              "<table border=\"1\" class=\"dataframe\">\n",
              "  <thead>\n",
              "    <tr style=\"text-align: right;\">\n",
              "      <th></th>\n",
              "      <th>size</th>\n",
              "      <th>color</th>\n",
              "      <th>gender</th>\n",
              "      <th>price</th>\n",
              "      <th>weight</th>\n",
              "      <th>bought</th>\n",
              "    </tr>\n",
              "  </thead>\n",
              "  <tbody>\n",
              "    <tr>\n",
              "      <th>0</th>\n",
              "      <td>XL</td>\n",
              "      <td>red</td>\n",
              "      <td>female</td>\n",
              "      <td>199.0</td>\n",
              "      <td>500.0</td>\n",
              "      <td>yes</td>\n",
              "    </tr>\n",
              "    <tr>\n",
              "      <th>1</th>\n",
              "      <td>L</td>\n",
              "      <td>green</td>\n",
              "      <td>male</td>\n",
              "      <td>89.0</td>\n",
              "      <td>450.0</td>\n",
              "      <td>no</td>\n",
              "    </tr>\n",
              "    <tr>\n",
              "      <th>2</th>\n",
              "      <td>M</td>\n",
              "      <td>blue</td>\n",
              "      <td>NaN</td>\n",
              "      <td>NaN</td>\n",
              "      <td>300.0</td>\n",
              "      <td>yes</td>\n",
              "    </tr>\n",
              "    <tr>\n",
              "      <th>3</th>\n",
              "      <td>NaN</td>\n",
              "      <td>green</td>\n",
              "      <td>female</td>\n",
              "      <td>129.0</td>\n",
              "      <td>415.0</td>\n",
              "      <td>no</td>\n",
              "    </tr>\n",
              "    <tr>\n",
              "      <th>4</th>\n",
              "      <td>M</td>\n",
              "      <td>red</td>\n",
              "      <td>female</td>\n",
              "      <td>79.0</td>\n",
              "      <td>410.0</td>\n",
              "      <td>yes</td>\n",
              "    </tr>\n",
              "  </tbody>\n",
              "</table>\n",
              "</div>"
            ],
            "text/plain": [
              "  size  color  gender  price  weight bought\n",
              "0   XL    red  female  199.0   500.0    yes\n",
              "1    L  green    male   89.0   450.0     no\n",
              "2    M   blue     NaN    NaN   300.0    yes\n",
              "3  NaN  green  female  129.0   415.0     no\n",
              "4    M    red  female   79.0   410.0    yes"
            ]
          },
          "metadata": {},
          "execution_count": 23
        }
      ]
    },
    {
      "cell_type": "markdown",
      "metadata": {
        "id": "SBL5_nmjYR1p"
      },
      "source": [
        "3##\n",
        "\n",
        "Wylicz wartość srednią wstawioną w miejsce braków\n",
        "\n",
        "https://scikit-learn.org/stable/modules/generated/sklearn.impute.SimpleImputer.html\n",
        "\n",
        "https://scikit-learn.org/stable/modules/impute.html#impute"
      ]
    },
    {
      "cell_type": "code",
      "metadata": {
        "colab": {
          "base_uri": "https://localhost:8080/"
        },
        "id": "V0h13Yx_XTic",
        "outputId": "d0f41307-fcc4-47e2-f6a0-509949f00af0"
      },
      "source": [
        "imputer = SimpleImputer(missing_values=np.nan, strategy='mean')\n",
        "df[['weight']] = imputer.fit_transform(df[['weight']])\n",
        "imputer.statistics_[0]"
      ],
      "execution_count": null,
      "outputs": [
        {
          "output_type": "execute_result",
          "data": {
            "text/plain": [
              "415.0"
            ]
          },
          "metadata": {},
          "execution_count": 25
        }
      ]
    },
    {
      "cell_type": "markdown",
      "metadata": {
        "id": "Gxlwu39qb4HR"
      },
      "source": [
        "4##\n",
        "\n",
        "Przypisz braki wartością stałą 99.0"
      ]
    },
    {
      "cell_type": "code",
      "metadata": {
        "id": "xDLt2f2Nbp44"
      },
      "source": [
        "import numpy as np\n",
        "import pandas as pd\n",
        "from sklearn.impute import SimpleImputer\n",
        "\n",
        "\n",
        "data = {\n",
        "    'size': ['XL', 'L', 'M', np.nan, 'M', 'M'],\n",
        "    'color': ['red', 'green', 'blue', 'green', 'red', 'green'],\n",
        "    'gender': ['female', 'male', np.nan, 'female', 'female', 'male'],\n",
        "    'price': [199.0, 89.0, np.nan, 129.0, 79.0, 89.0],\n",
        "    'weight': [500, 450, 300, np.nan, 410, np.nan],\n",
        "    'bought': ['yes', 'no', 'yes', 'no', 'yes', 'no']\n",
        "}\n",
        "\n",
        "df = pd.DataFrame(data=data)"
      ],
      "execution_count": null,
      "outputs": []
    },
    {
      "cell_type": "code",
      "metadata": {
        "colab": {
          "base_uri": "https://localhost:8080/",
          "height": 204
        },
        "id": "r1Pqt4SZciIt",
        "outputId": "fb78efbb-46cc-43ce-9c31-4f4620026d23"
      },
      "source": [
        "imputer = SimpleImputer(missing_values=np.nan, strategy='constant', fill_value=99.0)\n",
        "df[['price']] = imputer.fit_transform(df[['price']])\n",
        "df.head()"
      ],
      "execution_count": null,
      "outputs": [
        {
          "output_type": "execute_result",
          "data": {
            "text/html": [
              "<div>\n",
              "<style scoped>\n",
              "    .dataframe tbody tr th:only-of-type {\n",
              "        vertical-align: middle;\n",
              "    }\n",
              "\n",
              "    .dataframe tbody tr th {\n",
              "        vertical-align: top;\n",
              "    }\n",
              "\n",
              "    .dataframe thead th {\n",
              "        text-align: right;\n",
              "    }\n",
              "</style>\n",
              "<table border=\"1\" class=\"dataframe\">\n",
              "  <thead>\n",
              "    <tr style=\"text-align: right;\">\n",
              "      <th></th>\n",
              "      <th>size</th>\n",
              "      <th>color</th>\n",
              "      <th>gender</th>\n",
              "      <th>price</th>\n",
              "      <th>weight</th>\n",
              "      <th>bought</th>\n",
              "    </tr>\n",
              "  </thead>\n",
              "  <tbody>\n",
              "    <tr>\n",
              "      <th>0</th>\n",
              "      <td>XL</td>\n",
              "      <td>red</td>\n",
              "      <td>female</td>\n",
              "      <td>199.0</td>\n",
              "      <td>500.0</td>\n",
              "      <td>yes</td>\n",
              "    </tr>\n",
              "    <tr>\n",
              "      <th>1</th>\n",
              "      <td>L</td>\n",
              "      <td>green</td>\n",
              "      <td>male</td>\n",
              "      <td>89.0</td>\n",
              "      <td>450.0</td>\n",
              "      <td>no</td>\n",
              "    </tr>\n",
              "    <tr>\n",
              "      <th>2</th>\n",
              "      <td>M</td>\n",
              "      <td>blue</td>\n",
              "      <td>NaN</td>\n",
              "      <td>99.0</td>\n",
              "      <td>300.0</td>\n",
              "      <td>yes</td>\n",
              "    </tr>\n",
              "    <tr>\n",
              "      <th>3</th>\n",
              "      <td>NaN</td>\n",
              "      <td>green</td>\n",
              "      <td>female</td>\n",
              "      <td>129.0</td>\n",
              "      <td>NaN</td>\n",
              "      <td>no</td>\n",
              "    </tr>\n",
              "    <tr>\n",
              "      <th>4</th>\n",
              "      <td>M</td>\n",
              "      <td>red</td>\n",
              "      <td>female</td>\n",
              "      <td>79.0</td>\n",
              "      <td>410.0</td>\n",
              "      <td>yes</td>\n",
              "    </tr>\n",
              "  </tbody>\n",
              "</table>\n",
              "</div>"
            ],
            "text/plain": [
              "  size  color  gender  price  weight bought\n",
              "0   XL    red  female  199.0   500.0    yes\n",
              "1    L  green    male   89.0   450.0     no\n",
              "2    M   blue     NaN   99.0   300.0    yes\n",
              "3  NaN  green  female  129.0     NaN     no\n",
              "4    M    red  female   79.0   410.0    yes"
            ]
          },
          "metadata": {},
          "execution_count": 27
        }
      ]
    },
    {
      "cell_type": "markdown",
      "metadata": {
        "id": "WjKDO6wreWgc"
      },
      "source": [
        "5##\n",
        "\n",
        "Uzupełnij size najczesciej pojawiajacymi sie elementami tej kolumny"
      ]
    },
    {
      "cell_type": "code",
      "metadata": {
        "id": "euAimG-PeBIt"
      },
      "source": [
        "import numpy as np\n",
        "import pandas as pd\n",
        "from sklearn.impute import SimpleImputer\n",
        "\n",
        "data = {\n",
        "    'size': ['XL', 'L', 'M', np.nan, 'M', 'M'],\n",
        "    'color': ['red', 'green', 'blue', 'green', 'red', 'green'],\n",
        "    'gender': ['female', 'male', np.nan, 'female', 'female', 'male'],\n",
        "    'price': [199.0, 89.0, np.nan, 129.0, 79.0, 89.0],\n",
        "    'weight': [500, 450, 300, np.nan, 410, np.nan],\n",
        "    'bought': ['yes', 'no', 'yes', 'no', 'yes', 'no']\n",
        "}\n",
        "\n",
        "df = pd.DataFrame(data=data)"
      ],
      "execution_count": null,
      "outputs": []
    },
    {
      "cell_type": "code",
      "metadata": {
        "colab": {
          "base_uri": "https://localhost:8080/",
          "height": 204
        },
        "id": "7p_ChiuHe_NF",
        "outputId": "fddfed8a-488c-48d7-f1d4-db414b8b9617"
      },
      "source": [
        "imputer = SimpleImputer(missing_values=np.nan, strategy='most_frequent')\n",
        "df[['size']] = imputer.fit_transform(df[['size']])\n",
        "df.head()"
      ],
      "execution_count": null,
      "outputs": [
        {
          "output_type": "execute_result",
          "data": {
            "text/html": [
              "<div>\n",
              "<style scoped>\n",
              "    .dataframe tbody tr th:only-of-type {\n",
              "        vertical-align: middle;\n",
              "    }\n",
              "\n",
              "    .dataframe tbody tr th {\n",
              "        vertical-align: top;\n",
              "    }\n",
              "\n",
              "    .dataframe thead th {\n",
              "        text-align: right;\n",
              "    }\n",
              "</style>\n",
              "<table border=\"1\" class=\"dataframe\">\n",
              "  <thead>\n",
              "    <tr style=\"text-align: right;\">\n",
              "      <th></th>\n",
              "      <th>size</th>\n",
              "      <th>color</th>\n",
              "      <th>gender</th>\n",
              "      <th>price</th>\n",
              "      <th>weight</th>\n",
              "      <th>bought</th>\n",
              "    </tr>\n",
              "  </thead>\n",
              "  <tbody>\n",
              "    <tr>\n",
              "      <th>0</th>\n",
              "      <td>XL</td>\n",
              "      <td>red</td>\n",
              "      <td>female</td>\n",
              "      <td>199.0</td>\n",
              "      <td>500.0</td>\n",
              "      <td>yes</td>\n",
              "    </tr>\n",
              "    <tr>\n",
              "      <th>1</th>\n",
              "      <td>L</td>\n",
              "      <td>green</td>\n",
              "      <td>male</td>\n",
              "      <td>89.0</td>\n",
              "      <td>450.0</td>\n",
              "      <td>no</td>\n",
              "    </tr>\n",
              "    <tr>\n",
              "      <th>2</th>\n",
              "      <td>M</td>\n",
              "      <td>blue</td>\n",
              "      <td>NaN</td>\n",
              "      <td>NaN</td>\n",
              "      <td>300.0</td>\n",
              "      <td>yes</td>\n",
              "    </tr>\n",
              "    <tr>\n",
              "      <th>3</th>\n",
              "      <td>M</td>\n",
              "      <td>green</td>\n",
              "      <td>female</td>\n",
              "      <td>129.0</td>\n",
              "      <td>NaN</td>\n",
              "      <td>no</td>\n",
              "    </tr>\n",
              "    <tr>\n",
              "      <th>4</th>\n",
              "      <td>M</td>\n",
              "      <td>red</td>\n",
              "      <td>female</td>\n",
              "      <td>79.0</td>\n",
              "      <td>410.0</td>\n",
              "      <td>yes</td>\n",
              "    </tr>\n",
              "  </tbody>\n",
              "</table>\n",
              "</div>"
            ],
            "text/plain": [
              "  size  color  gender  price  weight bought\n",
              "0   XL    red  female  199.0   500.0    yes\n",
              "1    L  green    male   89.0   450.0     no\n",
              "2    M   blue     NaN    NaN   300.0    yes\n",
              "3    M  green  female  129.0     NaN     no\n",
              "4    M    red  female   79.0   410.0    yes"
            ]
          },
          "metadata": {},
          "execution_count": 29
        }
      ]
    },
    {
      "cell_type": "markdown",
      "metadata": {
        "id": "WCCUSct-ftla"
      },
      "source": [
        "6##\n",
        "\n",
        "Wycinam wiersz w weight gdzie jest null i wyliczam mean"
      ]
    },
    {
      "cell_type": "code",
      "metadata": {
        "colab": {
          "base_uri": "https://localhost:8080/"
        },
        "id": "6qLJ0YBNfUVd",
        "outputId": "db7111ef-fe4e-461a-f71c-3285cee5601a"
      },
      "source": [
        "df = pd.DataFrame(data=data)\n",
        "print(df[~df['weight'].isnull()].mean())"
      ],
      "execution_count": null,
      "outputs": [
        {
          "output_type": "stream",
          "text": [
            "price     122.333333\n",
            "weight    415.000000\n",
            "dtype: float64\n"
          ],
          "name": "stdout"
        }
      ]
    },
    {
      "cell_type": "code",
      "metadata": {
        "colab": {
          "base_uri": "https://localhost:8080/",
          "height": 173
        },
        "id": "3Y4Df6Q5fvRi",
        "outputId": "7addfbe4-079b-4023-9d62-ac6189200c5d"
      },
      "source": [
        "df[~df['weight'].isnull()]"
      ],
      "execution_count": null,
      "outputs": [
        {
          "output_type": "execute_result",
          "data": {
            "text/html": [
              "<div>\n",
              "<style scoped>\n",
              "    .dataframe tbody tr th:only-of-type {\n",
              "        vertical-align: middle;\n",
              "    }\n",
              "\n",
              "    .dataframe tbody tr th {\n",
              "        vertical-align: top;\n",
              "    }\n",
              "\n",
              "    .dataframe thead th {\n",
              "        text-align: right;\n",
              "    }\n",
              "</style>\n",
              "<table border=\"1\" class=\"dataframe\">\n",
              "  <thead>\n",
              "    <tr style=\"text-align: right;\">\n",
              "      <th></th>\n",
              "      <th>size</th>\n",
              "      <th>color</th>\n",
              "      <th>gender</th>\n",
              "      <th>price</th>\n",
              "      <th>weight</th>\n",
              "      <th>bought</th>\n",
              "    </tr>\n",
              "  </thead>\n",
              "  <tbody>\n",
              "    <tr>\n",
              "      <th>0</th>\n",
              "      <td>XL</td>\n",
              "      <td>red</td>\n",
              "      <td>female</td>\n",
              "      <td>199.0</td>\n",
              "      <td>500.0</td>\n",
              "      <td>yes</td>\n",
              "    </tr>\n",
              "    <tr>\n",
              "      <th>1</th>\n",
              "      <td>L</td>\n",
              "      <td>green</td>\n",
              "      <td>male</td>\n",
              "      <td>89.0</td>\n",
              "      <td>450.0</td>\n",
              "      <td>no</td>\n",
              "    </tr>\n",
              "    <tr>\n",
              "      <th>2</th>\n",
              "      <td>M</td>\n",
              "      <td>blue</td>\n",
              "      <td>NaN</td>\n",
              "      <td>NaN</td>\n",
              "      <td>300.0</td>\n",
              "      <td>yes</td>\n",
              "    </tr>\n",
              "    <tr>\n",
              "      <th>4</th>\n",
              "      <td>M</td>\n",
              "      <td>red</td>\n",
              "      <td>female</td>\n",
              "      <td>79.0</td>\n",
              "      <td>410.0</td>\n",
              "      <td>yes</td>\n",
              "    </tr>\n",
              "  </tbody>\n",
              "</table>\n",
              "</div>"
            ],
            "text/plain": [
              "  size  color  gender  price  weight bought\n",
              "0   XL    red  female  199.0   500.0    yes\n",
              "1    L  green    male   89.0   450.0     no\n",
              "2    M   blue     NaN    NaN   300.0    yes\n",
              "4    M    red  female   79.0   410.0    yes"
            ]
          },
          "metadata": {},
          "execution_count": 31
        }
      ]
    },
    {
      "cell_type": "markdown",
      "metadata": {
        "id": "aOuTeZZlhmZS"
      },
      "source": [
        "7##\n",
        "\n",
        "Identfikuje kolumny typu object i uzupełniam braki kolumn wartością empty"
      ]
    },
    {
      "cell_type": "code",
      "metadata": {
        "colab": {
          "base_uri": "https://localhost:8080/",
          "height": 235
        },
        "id": "dPMxny9df-7e",
        "outputId": "89315c0e-ce48-415b-bdf6-6b4c17348a68"
      },
      "source": [
        "df_object = df.select_dtypes(include=['object']).fillna('empty')\n",
        "df_object"
      ],
      "execution_count": null,
      "outputs": [
        {
          "output_type": "execute_result",
          "data": {
            "text/html": [
              "<div>\n",
              "<style scoped>\n",
              "    .dataframe tbody tr th:only-of-type {\n",
              "        vertical-align: middle;\n",
              "    }\n",
              "\n",
              "    .dataframe tbody tr th {\n",
              "        vertical-align: top;\n",
              "    }\n",
              "\n",
              "    .dataframe thead th {\n",
              "        text-align: right;\n",
              "    }\n",
              "</style>\n",
              "<table border=\"1\" class=\"dataframe\">\n",
              "  <thead>\n",
              "    <tr style=\"text-align: right;\">\n",
              "      <th></th>\n",
              "      <th>size</th>\n",
              "      <th>color</th>\n",
              "      <th>gender</th>\n",
              "      <th>bought</th>\n",
              "    </tr>\n",
              "  </thead>\n",
              "  <tbody>\n",
              "    <tr>\n",
              "      <th>0</th>\n",
              "      <td>XL</td>\n",
              "      <td>red</td>\n",
              "      <td>female</td>\n",
              "      <td>yes</td>\n",
              "    </tr>\n",
              "    <tr>\n",
              "      <th>1</th>\n",
              "      <td>L</td>\n",
              "      <td>green</td>\n",
              "      <td>male</td>\n",
              "      <td>no</td>\n",
              "    </tr>\n",
              "    <tr>\n",
              "      <th>2</th>\n",
              "      <td>M</td>\n",
              "      <td>blue</td>\n",
              "      <td>empty</td>\n",
              "      <td>yes</td>\n",
              "    </tr>\n",
              "    <tr>\n",
              "      <th>3</th>\n",
              "      <td>empty</td>\n",
              "      <td>green</td>\n",
              "      <td>female</td>\n",
              "      <td>no</td>\n",
              "    </tr>\n",
              "    <tr>\n",
              "      <th>4</th>\n",
              "      <td>M</td>\n",
              "      <td>red</td>\n",
              "      <td>female</td>\n",
              "      <td>yes</td>\n",
              "    </tr>\n",
              "    <tr>\n",
              "      <th>5</th>\n",
              "      <td>M</td>\n",
              "      <td>green</td>\n",
              "      <td>male</td>\n",
              "      <td>no</td>\n",
              "    </tr>\n",
              "  </tbody>\n",
              "</table>\n",
              "</div>"
            ],
            "text/plain": [
              "    size  color  gender bought\n",
              "0     XL    red  female    yes\n",
              "1      L  green    male     no\n",
              "2      M   blue   empty    yes\n",
              "3  empty  green  female     no\n",
              "4      M    red  female    yes\n",
              "5      M  green    male     no"
            ]
          },
          "metadata": {},
          "execution_count": 34
        }
      ]
    },
    {
      "cell_type": "markdown",
      "metadata": {
        "id": "lyPUn23Lj6sl"
      },
      "source": [
        "8##\n",
        "\n",
        "Robię dyskretyzację kolumny weight na 3 przedziały o równiej szerokości "
      ]
    },
    {
      "cell_type": "code",
      "metadata": {
        "id": "GwPFY6KVik0-"
      },
      "source": [
        "import pandas as pd\n",
        "\n",
        "\n",
        "df = pd.DataFrame(data={'weight': [75., 78.5, 85., 91., 84.5, 83., 68.]})"
      ],
      "execution_count": null,
      "outputs": []
    },
    {
      "cell_type": "code",
      "metadata": {
        "colab": {
          "base_uri": "https://localhost:8080/",
          "height": 266
        },
        "id": "OX_XQ7XEkPgq",
        "outputId": "21d869c1-4229-4edd-c338-62a88389d50a"
      },
      "source": [
        "df"
      ],
      "execution_count": null,
      "outputs": [
        {
          "output_type": "execute_result",
          "data": {
            "text/html": [
              "<div>\n",
              "<style scoped>\n",
              "    .dataframe tbody tr th:only-of-type {\n",
              "        vertical-align: middle;\n",
              "    }\n",
              "\n",
              "    .dataframe tbody tr th {\n",
              "        vertical-align: top;\n",
              "    }\n",
              "\n",
              "    .dataframe thead th {\n",
              "        text-align: right;\n",
              "    }\n",
              "</style>\n",
              "<table border=\"1\" class=\"dataframe\">\n",
              "  <thead>\n",
              "    <tr style=\"text-align: right;\">\n",
              "      <th></th>\n",
              "      <th>weight</th>\n",
              "    </tr>\n",
              "  </thead>\n",
              "  <tbody>\n",
              "    <tr>\n",
              "      <th>0</th>\n",
              "      <td>75.0</td>\n",
              "    </tr>\n",
              "    <tr>\n",
              "      <th>1</th>\n",
              "      <td>78.5</td>\n",
              "    </tr>\n",
              "    <tr>\n",
              "      <th>2</th>\n",
              "      <td>85.0</td>\n",
              "    </tr>\n",
              "    <tr>\n",
              "      <th>3</th>\n",
              "      <td>91.0</td>\n",
              "    </tr>\n",
              "    <tr>\n",
              "      <th>4</th>\n",
              "      <td>84.5</td>\n",
              "    </tr>\n",
              "    <tr>\n",
              "      <th>5</th>\n",
              "      <td>83.0</td>\n",
              "    </tr>\n",
              "    <tr>\n",
              "      <th>6</th>\n",
              "      <td>68.0</td>\n",
              "    </tr>\n",
              "  </tbody>\n",
              "</table>\n",
              "</div>"
            ],
            "text/plain": [
              "   weight\n",
              "0    75.0\n",
              "1    78.5\n",
              "2    85.0\n",
              "3    91.0\n",
              "4    84.5\n",
              "5    83.0\n",
              "6    68.0"
            ]
          },
          "metadata": {},
          "execution_count": 36
        }
      ]
    },
    {
      "cell_type": "code",
      "metadata": {
        "colab": {
          "base_uri": "https://localhost:8080/",
          "height": 266
        },
        "id": "4nxbsGYBkQzJ",
        "outputId": "d9da0ee7-a3d0-4953-c33f-53b97df9eb0e"
      },
      "source": [
        "df = pd.DataFrame(data={'weight': [75., 78.5, 85., 91., 84.5, 83., 68.]})\n",
        "df['weight_cut'] = pd.cut(df['weight'], bins=3)\n",
        "df"
      ],
      "execution_count": null,
      "outputs": [
        {
          "output_type": "execute_result",
          "data": {
            "text/html": [
              "<div>\n",
              "<style scoped>\n",
              "    .dataframe tbody tr th:only-of-type {\n",
              "        vertical-align: middle;\n",
              "    }\n",
              "\n",
              "    .dataframe tbody tr th {\n",
              "        vertical-align: top;\n",
              "    }\n",
              "\n",
              "    .dataframe thead th {\n",
              "        text-align: right;\n",
              "    }\n",
              "</style>\n",
              "<table border=\"1\" class=\"dataframe\">\n",
              "  <thead>\n",
              "    <tr style=\"text-align: right;\">\n",
              "      <th></th>\n",
              "      <th>weight</th>\n",
              "      <th>weight_cut</th>\n",
              "    </tr>\n",
              "  </thead>\n",
              "  <tbody>\n",
              "    <tr>\n",
              "      <th>0</th>\n",
              "      <td>75.0</td>\n",
              "      <td>(67.977, 75.667]</td>\n",
              "    </tr>\n",
              "    <tr>\n",
              "      <th>1</th>\n",
              "      <td>78.5</td>\n",
              "      <td>(75.667, 83.333]</td>\n",
              "    </tr>\n",
              "    <tr>\n",
              "      <th>2</th>\n",
              "      <td>85.0</td>\n",
              "      <td>(83.333, 91.0]</td>\n",
              "    </tr>\n",
              "    <tr>\n",
              "      <th>3</th>\n",
              "      <td>91.0</td>\n",
              "      <td>(83.333, 91.0]</td>\n",
              "    </tr>\n",
              "    <tr>\n",
              "      <th>4</th>\n",
              "      <td>84.5</td>\n",
              "      <td>(83.333, 91.0]</td>\n",
              "    </tr>\n",
              "    <tr>\n",
              "      <th>5</th>\n",
              "      <td>83.0</td>\n",
              "      <td>(75.667, 83.333]</td>\n",
              "    </tr>\n",
              "    <tr>\n",
              "      <th>6</th>\n",
              "      <td>68.0</td>\n",
              "      <td>(67.977, 75.667]</td>\n",
              "    </tr>\n",
              "  </tbody>\n",
              "</table>\n",
              "</div>"
            ],
            "text/plain": [
              "   weight        weight_cut\n",
              "0    75.0  (67.977, 75.667]\n",
              "1    78.5  (75.667, 83.333]\n",
              "2    85.0    (83.333, 91.0]\n",
              "3    91.0    (83.333, 91.0]\n",
              "4    84.5    (83.333, 91.0]\n",
              "5    83.0  (75.667, 83.333]\n",
              "6    68.0  (67.977, 75.667]"
            ]
          },
          "metadata": {},
          "execution_count": 40
        }
      ]
    },
    {
      "cell_type": "markdown",
      "metadata": {
        "id": "1lq9_kuw2Vp7"
      },
      "source": [
        "9##\n",
        "\n",
        "![2021-08-22 19_13_19-Machine Learning Bootcamp w języku Python cz.III - Ćwiczenia _ Udemy.png](data:image/png;base64,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)"
      ]
    },
    {
      "cell_type": "code",
      "metadata": {
        "colab": {
          "base_uri": "https://localhost:8080/",
          "height": 204
        },
        "id": "3WX9Eh09rg0D",
        "outputId": "f9e04b3d-46e3-4c74-dfea-cae851da1ef1"
      },
      "source": [
        "import pandas as pd\n",
        "df = pd.DataFrame(data={'weight': [75., 78.5, 85., 91., 84.5, 83., 68.]})\n",
        "df.head()"
      ],
      "execution_count": null,
      "outputs": [
        {
          "output_type": "execute_result",
          "data": {
            "text/html": [
              "<div>\n",
              "<style scoped>\n",
              "    .dataframe tbody tr th:only-of-type {\n",
              "        vertical-align: middle;\n",
              "    }\n",
              "\n",
              "    .dataframe tbody tr th {\n",
              "        vertical-align: top;\n",
              "    }\n",
              "\n",
              "    .dataframe thead th {\n",
              "        text-align: right;\n",
              "    }\n",
              "</style>\n",
              "<table border=\"1\" class=\"dataframe\">\n",
              "  <thead>\n",
              "    <tr style=\"text-align: right;\">\n",
              "      <th></th>\n",
              "      <th>weight</th>\n",
              "    </tr>\n",
              "  </thead>\n",
              "  <tbody>\n",
              "    <tr>\n",
              "      <th>0</th>\n",
              "      <td>75.0</td>\n",
              "    </tr>\n",
              "    <tr>\n",
              "      <th>1</th>\n",
              "      <td>78.5</td>\n",
              "    </tr>\n",
              "    <tr>\n",
              "      <th>2</th>\n",
              "      <td>85.0</td>\n",
              "    </tr>\n",
              "    <tr>\n",
              "      <th>3</th>\n",
              "      <td>91.0</td>\n",
              "    </tr>\n",
              "    <tr>\n",
              "      <th>4</th>\n",
              "      <td>84.5</td>\n",
              "    </tr>\n",
              "  </tbody>\n",
              "</table>\n",
              "</div>"
            ],
            "text/plain": [
              "   weight\n",
              "0    75.0\n",
              "1    78.5\n",
              "2    85.0\n",
              "3    91.0\n",
              "4    84.5"
            ]
          },
          "metadata": {},
          "execution_count": 43
        }
      ]
    },
    {
      "cell_type": "code",
      "metadata": {
        "colab": {
          "base_uri": "https://localhost:8080/",
          "height": 204
        },
        "id": "SVz6RZj537j5",
        "outputId": "8a6d67c7-f023-4729-cc67-5b522464dddf"
      },
      "source": [
        "df['weight_cut'] = pd.cut(df['weight'], bins=(60, 75, 80, 95))\n",
        "df.head()"
      ],
      "execution_count": null,
      "outputs": [
        {
          "output_type": "execute_result",
          "data": {
            "text/html": [
              "<div>\n",
              "<style scoped>\n",
              "    .dataframe tbody tr th:only-of-type {\n",
              "        vertical-align: middle;\n",
              "    }\n",
              "\n",
              "    .dataframe tbody tr th {\n",
              "        vertical-align: top;\n",
              "    }\n",
              "\n",
              "    .dataframe thead th {\n",
              "        text-align: right;\n",
              "    }\n",
              "</style>\n",
              "<table border=\"1\" class=\"dataframe\">\n",
              "  <thead>\n",
              "    <tr style=\"text-align: right;\">\n",
              "      <th></th>\n",
              "      <th>weight</th>\n",
              "      <th>weight_cut</th>\n",
              "    </tr>\n",
              "  </thead>\n",
              "  <tbody>\n",
              "    <tr>\n",
              "      <th>0</th>\n",
              "      <td>75.0</td>\n",
              "      <td>(60, 75]</td>\n",
              "    </tr>\n",
              "    <tr>\n",
              "      <th>1</th>\n",
              "      <td>78.5</td>\n",
              "      <td>(75, 80]</td>\n",
              "    </tr>\n",
              "    <tr>\n",
              "      <th>2</th>\n",
              "      <td>85.0</td>\n",
              "      <td>(80, 95]</td>\n",
              "    </tr>\n",
              "    <tr>\n",
              "      <th>3</th>\n",
              "      <td>91.0</td>\n",
              "      <td>(80, 95]</td>\n",
              "    </tr>\n",
              "    <tr>\n",
              "      <th>4</th>\n",
              "      <td>84.5</td>\n",
              "      <td>(80, 95]</td>\n",
              "    </tr>\n",
              "  </tbody>\n",
              "</table>\n",
              "</div>"
            ],
            "text/plain": [
              "   weight weight_cut\n",
              "0    75.0   (60, 75]\n",
              "1    78.5   (75, 80]\n",
              "2    85.0   (80, 95]\n",
              "3    91.0   (80, 95]\n",
              "4    84.5   (80, 95]"
            ]
          },
          "metadata": {},
          "execution_count": 44
        }
      ]
    },
    {
      "cell_type": "markdown",
      "metadata": {
        "id": "wXtI8MaZ5Z50"
      },
      "source": [
        "![2021-08-22 19_26_16-Machine Learning Bootcamp w języku Python cz.III - Ćwiczenia _ Udemy.png](data:image/png;base64,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)"
      ]
    },
    {
      "cell_type": "code",
      "metadata": {
        "colab": {
          "base_uri": "https://localhost:8080/",
          "height": 204
        },
        "id": "K0VQUvty4XrC",
        "outputId": "24527d2d-3080-4d59-c256-a8407ea95a9e"
      },
      "source": [
        "import pandas as pd\n",
        "df = pd.DataFrame(data={'weight': [75., 78.5, 85., 91., 84.5, 83., 68.]})\n",
        "df.head()"
      ],
      "execution_count": null,
      "outputs": [
        {
          "output_type": "execute_result",
          "data": {
            "text/html": [
              "<div>\n",
              "<style scoped>\n",
              "    .dataframe tbody tr th:only-of-type {\n",
              "        vertical-align: middle;\n",
              "    }\n",
              "\n",
              "    .dataframe tbody tr th {\n",
              "        vertical-align: top;\n",
              "    }\n",
              "\n",
              "    .dataframe thead th {\n",
              "        text-align: right;\n",
              "    }\n",
              "</style>\n",
              "<table border=\"1\" class=\"dataframe\">\n",
              "  <thead>\n",
              "    <tr style=\"text-align: right;\">\n",
              "      <th></th>\n",
              "      <th>weight</th>\n",
              "    </tr>\n",
              "  </thead>\n",
              "  <tbody>\n",
              "    <tr>\n",
              "      <th>0</th>\n",
              "      <td>75.0</td>\n",
              "    </tr>\n",
              "    <tr>\n",
              "      <th>1</th>\n",
              "      <td>78.5</td>\n",
              "    </tr>\n",
              "    <tr>\n",
              "      <th>2</th>\n",
              "      <td>85.0</td>\n",
              "    </tr>\n",
              "    <tr>\n",
              "      <th>3</th>\n",
              "      <td>91.0</td>\n",
              "    </tr>\n",
              "    <tr>\n",
              "      <th>4</th>\n",
              "      <td>84.5</td>\n",
              "    </tr>\n",
              "  </tbody>\n",
              "</table>\n",
              "</div>"
            ],
            "text/plain": [
              "   weight\n",
              "0    75.0\n",
              "1    78.5\n",
              "2    85.0\n",
              "3    91.0\n",
              "4    84.5"
            ]
          },
          "metadata": {},
          "execution_count": 47
        }
      ]
    },
    {
      "cell_type": "code",
      "metadata": {
        "colab": {
          "base_uri": "https://localhost:8080/",
          "height": 204
        },
        "id": "KN-hKJcQ5qF-",
        "outputId": "83dd836f-9a9a-443c-e1bd-e141b1495415"
      },
      "source": [
        "df = pd.DataFrame(data={'weight': [75., 78.5, 85., 91., 84.5, 83., 68.]})\n",
        "df['weight_cut'] = pd.cut(df['weight'], bins=(60, 75, 80, 95), labels=['light', 'normal', 'heavy'])\n",
        "df.head()"
      ],
      "execution_count": null,
      "outputs": [
        {
          "output_type": "execute_result",
          "data": {
            "text/html": [
              "<div>\n",
              "<style scoped>\n",
              "    .dataframe tbody tr th:only-of-type {\n",
              "        vertical-align: middle;\n",
              "    }\n",
              "\n",
              "    .dataframe tbody tr th {\n",
              "        vertical-align: top;\n",
              "    }\n",
              "\n",
              "    .dataframe thead th {\n",
              "        text-align: right;\n",
              "    }\n",
              "</style>\n",
              "<table border=\"1\" class=\"dataframe\">\n",
              "  <thead>\n",
              "    <tr style=\"text-align: right;\">\n",
              "      <th></th>\n",
              "      <th>weight</th>\n",
              "      <th>weight_cut</th>\n",
              "    </tr>\n",
              "  </thead>\n",
              "  <tbody>\n",
              "    <tr>\n",
              "      <th>0</th>\n",
              "      <td>75.0</td>\n",
              "      <td>light</td>\n",
              "    </tr>\n",
              "    <tr>\n",
              "      <th>1</th>\n",
              "      <td>78.5</td>\n",
              "      <td>normal</td>\n",
              "    </tr>\n",
              "    <tr>\n",
              "      <th>2</th>\n",
              "      <td>85.0</td>\n",
              "      <td>heavy</td>\n",
              "    </tr>\n",
              "    <tr>\n",
              "      <th>3</th>\n",
              "      <td>91.0</td>\n",
              "      <td>heavy</td>\n",
              "    </tr>\n",
              "    <tr>\n",
              "      <th>4</th>\n",
              "      <td>84.5</td>\n",
              "      <td>heavy</td>\n",
              "    </tr>\n",
              "  </tbody>\n",
              "</table>\n",
              "</div>"
            ],
            "text/plain": [
              "   weight weight_cut\n",
              "0    75.0      light\n",
              "1    78.5     normal\n",
              "2    85.0      heavy\n",
              "3    91.0      heavy\n",
              "4    84.5      heavy"
            ]
          },
          "metadata": {},
          "execution_count": 49
        }
      ]
    },
    {
      "cell_type": "markdown",
      "metadata": {
        "id": "fhnsmuOZ6u8h"
      },
      "source": [
        "![2021-08-22 19_32_57-Machine Learning Bootcamp w języku Python cz.III - Ćwiczenia _ Udemy.png](data:image/png;base64,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)"
      ]
    },
    {
      "cell_type": "code",
      "metadata": {
        "colab": {
          "base_uri": "https://localhost:8080/",
          "height": 204
        },
        "id": "x-K3KhFu6JGP",
        "outputId": "c36bf041-36a4-4cc1-ce42-dd6195e5806b"
      },
      "source": [
        "import pandas as pd\n",
        "\n",
        "df = pd.DataFrame(data={'weight': [75., 78.5, 85., 91., 84.5, 83., 68.]})\n",
        "df['weight_cut'] = pd.cut(df['weight'], bins=(60, 75, 80, 95), labels=['light', 'normal', 'heavy'])\n",
        "df.head()"
      ],
      "execution_count": null,
      "outputs": [
        {
          "output_type": "execute_result",
          "data": {
            "text/html": [
              "<div>\n",
              "<style scoped>\n",
              "    .dataframe tbody tr th:only-of-type {\n",
              "        vertical-align: middle;\n",
              "    }\n",
              "\n",
              "    .dataframe tbody tr th {\n",
              "        vertical-align: top;\n",
              "    }\n",
              "\n",
              "    .dataframe thead th {\n",
              "        text-align: right;\n",
              "    }\n",
              "</style>\n",
              "<table border=\"1\" class=\"dataframe\">\n",
              "  <thead>\n",
              "    <tr style=\"text-align: right;\">\n",
              "      <th></th>\n",
              "      <th>weight</th>\n",
              "      <th>weight_cut</th>\n",
              "    </tr>\n",
              "  </thead>\n",
              "  <tbody>\n",
              "    <tr>\n",
              "      <th>0</th>\n",
              "      <td>75.0</td>\n",
              "      <td>light</td>\n",
              "    </tr>\n",
              "    <tr>\n",
              "      <th>1</th>\n",
              "      <td>78.5</td>\n",
              "      <td>normal</td>\n",
              "    </tr>\n",
              "    <tr>\n",
              "      <th>2</th>\n",
              "      <td>85.0</td>\n",
              "      <td>heavy</td>\n",
              "    </tr>\n",
              "    <tr>\n",
              "      <th>3</th>\n",
              "      <td>91.0</td>\n",
              "      <td>heavy</td>\n",
              "    </tr>\n",
              "    <tr>\n",
              "      <th>4</th>\n",
              "      <td>84.5</td>\n",
              "      <td>heavy</td>\n",
              "    </tr>\n",
              "  </tbody>\n",
              "</table>\n",
              "</div>"
            ],
            "text/plain": [
              "   weight weight_cut\n",
              "0    75.0      light\n",
              "1    78.5     normal\n",
              "2    85.0      heavy\n",
              "3    91.0      heavy\n",
              "4    84.5      heavy"
            ]
          },
          "metadata": {},
          "execution_count": 51
        }
      ]
    },
    {
      "cell_type": "code",
      "metadata": {
        "colab": {
          "base_uri": "https://localhost:8080/",
          "height": 204
        },
        "id": "nYfui7u_8fze",
        "outputId": "f3f8bced-8c4e-4fb8-b161-814b32085f51"
      },
      "source": [
        "df = pd.get_dummies(df)\n",
        "df.head()"
      ],
      "execution_count": null,
      "outputs": [
        {
          "output_type": "execute_result",
          "data": {
            "text/html": [
              "<div>\n",
              "<style scoped>\n",
              "    .dataframe tbody tr th:only-of-type {\n",
              "        vertical-align: middle;\n",
              "    }\n",
              "\n",
              "    .dataframe tbody tr th {\n",
              "        vertical-align: top;\n",
              "    }\n",
              "\n",
              "    .dataframe thead th {\n",
              "        text-align: right;\n",
              "    }\n",
              "</style>\n",
              "<table border=\"1\" class=\"dataframe\">\n",
              "  <thead>\n",
              "    <tr style=\"text-align: right;\">\n",
              "      <th></th>\n",
              "      <th>weight</th>\n",
              "      <th>weight_cut_light</th>\n",
              "      <th>weight_cut_normal</th>\n",
              "      <th>weight_cut_heavy</th>\n",
              "    </tr>\n",
              "  </thead>\n",
              "  <tbody>\n",
              "    <tr>\n",
              "      <th>0</th>\n",
              "      <td>75.0</td>\n",
              "      <td>1</td>\n",
              "      <td>0</td>\n",
              "      <td>0</td>\n",
              "    </tr>\n",
              "    <tr>\n",
              "      <th>1</th>\n",
              "      <td>78.5</td>\n",
              "      <td>0</td>\n",
              "      <td>1</td>\n",
              "      <td>0</td>\n",
              "    </tr>\n",
              "    <tr>\n",
              "      <th>2</th>\n",
              "      <td>85.0</td>\n",
              "      <td>0</td>\n",
              "      <td>0</td>\n",
              "      <td>1</td>\n",
              "    </tr>\n",
              "    <tr>\n",
              "      <th>3</th>\n",
              "      <td>91.0</td>\n",
              "      <td>0</td>\n",
              "      <td>0</td>\n",
              "      <td>1</td>\n",
              "    </tr>\n",
              "    <tr>\n",
              "      <th>4</th>\n",
              "      <td>84.5</td>\n",
              "      <td>0</td>\n",
              "      <td>0</td>\n",
              "      <td>1</td>\n",
              "    </tr>\n",
              "  </tbody>\n",
              "</table>\n",
              "</div>"
            ],
            "text/plain": [
              "   weight  weight_cut_light  weight_cut_normal  weight_cut_heavy\n",
              "0    75.0                 1                  0                 0\n",
              "1    78.5                 0                  1                 0\n",
              "2    85.0                 0                  0                 1\n",
              "3    91.0                 0                  0                 1\n",
              "4    84.5                 0                  0                 1"
            ]
          },
          "metadata": {},
          "execution_count": 53
        }
      ]
    },
    {
      "cell_type": "markdown",
      "metadata": {
        "id": "UrAWhexr9myB"
      },
      "source": [
        "![2021-08-22 19_43_55-Machine Learning Bootcamp w języku Python cz.III - Ćwiczenia _ Udemy.png](data:image/png;base64,iVBORw0KGgoAAAANSUhEUgAAAokAAAE3CAIAAABJnUzuAAAAAXNSR0IArs4c6QAAAARnQU1BAACxjwv8YQUAAAAJcEhZcwAADsMAAA7DAcdvqGQAAAASdEVYdFNvZnR3YXJlAEdyZWVuc2hvdF5VCAUAADP4SURBVHhe7Z3702VVeefnL5i/AMtfk9RMzUympopK1Uy0RoHJxdxGTQQnajCRbmaiZjIBMU4S0dIEZyCJmgJMppRWc+NiZhK7rYAhEJROVEgjSN+Ird1gYzdFQzUEIfOlv4dvPa59znnPezlvr33686lVp9Z+1rOe9ay1L9+z9znve/7ZPwEAAEBPoM0AAAB9gTYDAAD0BdoMAADQF2gzAABAX6DNAAAAfYE2AwAA9AXaDAAA0BdoMwAAQF+gzQAAAH2BNgMAAPQF2gwAANAXaDMAAEBfoM0AAAB9gTYDAAD0xbZq8+nTp9/9q+8572UvP//8H7j99jteeOGFSQMAAAC8xPZps5T4lltu/Z7v/T4VVRBmAACAqWyfNt9zzxd0uyxh/tSnPv3cc89NrAAAAPDdbJM279+//0df82PnvezlH/7IRxBmAACAOYz4u2DHjx//r//tF3Uj/j9+5YrHH//2xNolL7zwwmf+7M/OP/8HXvXqCz/72d08zwcAgDksXZtPnTp1222f2bHz8h98xSt13+wvgr35LZd+4qZdp0+fnjhtiOtvuNEBVT7zmT+bWLvkyDe+8eM//pNO9Wd/9s1PPPHEpGGLUHyFVfArrrhyuKqy3H77HZddtlMrLx+9vuMd77znni88//zzEw8AAOiJJWrzc889d+utt0WSm3LxJW88ceLExHVDoM3i2WefveWWW7PIQ23ev3//D//Ia9zalA9+8DeffvrpiR8AAHTDsrRZwvzhj3ykEYNaNq/Njz/+7V/677/8Pd/7fb/6nv958uTJibVLXnjhhb/4i89KQV/16gs///m/2pJn2lrhv77rLi1jXdWhNt+7d291qEVLt3v3nokfAAB0w1K0WdrjP5eyBvyLf/mvPvrR33v00Uf9EFXi8eUvf+V3fvfDW/5o95zi5ptvicqmTNVmr/+3vvUt7Rcp+p7Pfc4Pt1XeddW7n3nmmYkrAAD0wVK0+etf/7q/la0iGbjr7rv59tOWE21+3et/+pWv/I+uD7X5oYceuv/v/36ycQY5yM3+m396AQAAW85StPkTN+3ypV/lxo99bJYwy37ddb9tt9e+7vW6sbb929/+9iVv/C+2//qv/8Y//uM/2p4PmG2sN466O7SPefbZZ++44/P59pPu4BVQFjVNvd1MUasjiFOnTn3845/4z699neyOcOutt1XlaxL45jePKjGNKOefu/St99zzhUxc+peHz418+tH02962Q3e3ar3ooh/SmmQp5nDbbZ9RL01KzrOCT0VLpzzt/wu/cNmTTz45aQAAgD7Yem0+deqpX/zFd/jSf8GFFx04cHDSMI0777zTnt//b//d/fffb6Mq2rT9Z37mYv991DPPPPOuq95toxV0ljYfOnToTW96S5pSrr32OrXWXsPiyEL3mj/xEz/VtKpoavl7rRpKb0caf4l0spqlzSdPnsykatG6/e3f/p191mSO8E/lyJEjSfW3rvnQd77znUkDAAD0wdZrs6RLgupL/5rfSa5fYM53ravmRbMVx38m9O//wyu++tUHG7eo4PHjx9/yc5fGXsua2vyjr/mx/fv3y6eq17D8zu9+2HrW5Jl6ynve82u6g5fnVPlU02+89+o4N+XNb7n0+PHH5bYm69JmvXO68l1X2VnvHu67775JAwAAdMPWa7NulHXbt6BUqFU+dv7Q//rfL7zwQp64RuCt2fsPHHjVqy/UZh7DDrVZ3W/82MdifPvb36l76Oeff/65557bt++BP/rjP3lxyEL9MrmE6p57viCjglx//Q0x7vnc5+SmPPOgXm8m9JZCnjUBvW/wWF/5ylfyWXtu+qfK55e//JUouuZ+6tQpddftclZvz56FvkS9uDZ/61vfyiMNFf5HGwBAn2y9Nh8+fPg//dCP+Oq/yMeZ0TzJhu7qHn300de+7vXa/K1rPmTp+sAHPqj71Dz9vu663/bnuENt1lga0Za3vW3H/Ft2BcmXyfWan9+oQeoj39ziy/nv/u5LstQEbr/9DrspiITWxjzSnyqf+fhcEv7YY4+d6f1dHwbrBt3G+Syizcrqr++6K6qvKXz0o7+HMAMA9MnWa3OVCt1Bfv3rX580zCCfLvt+VCor5ZCK3HX33RZpC7yVTE15fD3U5vqEXP52m4V/e8PO9Q6yBplVPNwwAfPHf/InNs7R5qrBs4ofwq/JmtqsqX3qU5/W0tnnB1/xyjvu+LzfiAAAQIdsvTY3qrNr1yfny0C+le37Ud9G6x5akuM4r3r1hV/96oOu169zD6WxPk6fr8357Q2Vd1317vrvsWqQWWW+Nsc+R5uFKrbMKluizVr8+rfml7715/1AHgAAumXrtVn8+Z//hZVARRL40EMPTRqmIfHIX1J9/OOfsGJZWfO4W7d9/iKYFFra745Daawq9fa3v/PUqVP2bKjfF1NFm5OGM9QgeX4+lc1os4ySXlv01kRvUM503QjztVlva/LXz1e+66pTp56aNAAAQK8sRZufeOKJt71th/VA5Qdf8co//MM/koRY55566ql77733gx/8zXwenM+Sf+7St0rL8+A6j7vf9Ka3+F5WsucuYiiN3/nOd37rmg/F+N6r33fs2DEN+txzz33xi1/89Kf/UD66Rc6fLWksfzG7Uu/7zz//B/70T2/2R+bPP/+8btl///f/IH/rtUlt3rNnjy0qSvWb3zzq/5um4W6//Y5duz75YqwFmKPNdUFe9/qf1mpMGgAAoGOWos2iPjSeWiQnEhU7Nx/x+oNn2fO9sH/9b75fgp2/njJTpXHOuLpPlUjP/y/f1v777rsvH0UPS8bapDY372CasuADbTFHm+vfs00tdS8AAEAnLEubhfT10rf+fCMGKVUVJCcSlTRFYJqPrv1FbncRs6Sx/hlSLVK7NT9LtjbrVvu22z7jf9Q1LFulzUKts/6Qeku0ec35os0AAB2yRG0W/oPd97zn117zYz9uMdDt70/+1Gs/8IEPyu5HuCYfLauoPrGW7zyrNF/vmiWNQnrzB3/wf/zvNlUuuuiHfv033iuhWlCbzTe+8c3rrvvtZK4g73jnL/3N39yTb3RvXpvF008/fcstt77pTW/xWwHdr7/5LZd+6lOfnvVh+RC0GQBgxViuNgMAAMB6QZsBAAD6Am0GAADoC7QZAACgL9BmAACAvkCbAQAA+gJtBgAA6Au0GQAAoC/QZgAAgL5AmwEAAPoCbQYAAOgLtBkAAKAv0GYAAIC+QJsBAAD6Am0GAADoC7QZAACgL9BmAACAvkCbAQAA+gJtBgAA6Au0GQAAoC/QZgAAgL5AmwEAAPoCbQYAAOgLtBkAAKAv0GYAAIC+QJsBAAD6Am0GAADoi6Vo87XXXnfey17ucvElbzxx4sSkYQFuvvkWdZ9sbB0Ke8UVV54+fXqy3QFaFi3OvXv3Tra3EQ29Y+flBw4cnGy/xJopzeo4BzlfcOFFGz4e5qB9mrAq2pw0bDtasRxdXsOzmw8AjJ1laXMuTKqs63Is/2Vo8wbY/kw03PaMuAGJNbM61j3eUHVLyE1SPX9oOavLmu9a5gy6zSiNZNJPVgAwXpauzbrOXv2+9y8uA+q4Pfq0Jv1ksuVspzYPm2SZv7CLpLfhKWw59Z1EP1kBwKhZujbXq5WMU59A6rpmo+6wr7/hxly4q7+vfb4O7t69x48NfQfW3GZ5s9EDtcqoJtWVkrurxE1x8uhVzsrBdW/ax3hGMtYc3OSh3Sv2qTnHrji1l4tHTA7OvK6GilrrOgtbJhsvoVC1i42zppCU7Ja+cah706133X13kq9LYZqARpuekep1X6hoOhlUxQk362OjBlIm6v5ixJdQdy9CMqmLpoHkL9Rx374HHNOZ2K3mL7ckVhc51DzdsVp++Zd/xcNNvAEA1sN2PNPO5S9XK1/4fMnWa+y6wOkylyvyTbt2+QqeIEKV+Mszwd1LTL1qaxR71qFVt9I4bIwHDx5SpcasOEJySP4Oki6NPf7J2XYPGjKo7HZTXULiiskEq482PRf7GDlEbzyc4qsu5zlTcEoxuu6BMkqNLJSzIzfEf7J9hkSTXUE8nDbzfKWuvCIojQSX3f56jRAmE7Vq0w7ezPrI6JjyfMPFl1y2Y6cqTk/jOr4c7ONBHUduXm3Vg/yzOHJQhGYUVeIAALBelv5dMF8cRS76JtdfvebKK2Kv5PrYxIldRAOmRlAXZ5KK7XJWcdiahpgaR9SxRFJKMo09FdtnzUXUCLJPvbjXXrWuV9VlOeM1oVnb+MyaQg1Y+8pu4XTH3bv3SN7SXTQDhTqjIE+nUXtVz2pXRZuu17Rlj49x8lMDisTU7KLlaq3Cn5hNAs7Wm6KmIeSQDGtHAIANs/T7ZtNczoR14uTJkxEDU690skfjLVRVPES9/nrQqIgdgodTq3wS08XDOXI2Rc2kMpyL3BQ/Q0ysJaWpOTf2qUukfOrtqXDMyUZJ0jnYaJr4IkMPx3L3dHElS+QiuzpqR7g+6XmGJqswXENHlr3JQQFlV6vIHrRzxkr+jd3ILqNevVmHrv7VnoCqx8eVzLrJXyRVb2buU7MCANgA26TNw8uW6r7qNc7atL1eAWddlOu11f779j2QB4yVRMu4s0gC9SJe0XBVVJJSTcaou+yzcm7scm4Wzcg/N6ly9izcJBzt4MFDstehTRNTzl6cWVOoKTl5OwR31H1znkWbWckP7erlt1nO3Dl7XDmrXu1NnnLw9Bu7UWS3erMOrSa/xakTtN2DisScGryisOklt+wdvSZzAIDNsE3aLGTJQ1q9qu5LZLXr6qZrqC989QoYn+baWq+GapLw6EKZ1oqMuaxn6CDjrl2fdD3j1gQqjlBzc2ShSuwaYn7O1Z4g9hHSP1/x5WmpUGmeJBuNeNmOnYow2S4oeG67PZzd5k/BKSV/+5iaTJVnhRomUKMZuSWfhFJdfXMvrtcsRZOPfDyKemW/BzVlRiKbnqxj1kFFTVvGvKuTvYZqUCZ1z2aVaubxOdMDAGB9bJ82CxnzqNAXXBO7Lm037dpVL6m266Lpa3G9WIvmGq04sy6I9bqpXlIIR7ZUOKwtcUsCNVUhuwZVnvavI9Y4sc/KOfaaj4smIns2Va+RXZKnWiN4Q2qc7JRZU2hSrfvLw7mjx3Jk7yxPoUlDzl7AlEbwEl+ZZNz08mbyV98cVzJm+kGt7mISR696o2N/pRcBHk426dXMhwO5o5o0X0XOEVgjKKwi2A4AsF6Wos1ni3pxbJjTtF50wY0+9cBUoYJtplF6AIDNsDraLLGc+shXbO11sytt9h0eknDW6e0dGwCMmlXQ5jxjHEpUmrbqpln0cxXWpDQ1P+YFAICVYaWeaQMAAKwAaDMAAEBfoM0AAAB9gTYDAAD0BdoMAADQF2gzAABAX6DNAAAAfYE2AwAA9AXaDAAA0BdoMwAAQF+gzQAAAH2BNgMAAPQF2gwAANAXaDMAAEBfoM0AAAB9gTYDAAD0BdoMAADQF2gzAABAX6DNAAAAfYE2AwAA9AXaDAAA0BdoMwAAQF+gzQAAAH2BNgMAAPQF2gwAANAXaDMAAEBfoM0AAAB9gTYDAAD0BdoMAADQF2gzAABAX6DNAAAAfYE2AwAA9MU5oc33PXhgUgMAAOgetBkAAKAv0GYAAIC+QJsBAAD6YnzafPzEE/c/dHDf1w49+dTTE9NaoM0AADAiRqbNRx97/MEDjzx6/MQD+w+jzQAAsJKM8pm2bp3R5k44ffr0FVdced7LXq5y8823yKJXV9R09fvef+DAQRuvv+HGiy95o9zkr6YTJ06oIqP73rt3bxPNFrlde+11iiPLBRde5GhCrXZTTPnIvmPn5aqoyUHcHQBgjKDNsCkknFbiMEubLaKqq4uEU3VZ7CkfecrfTbKoVVore3XTqxzsHyUO6ZtotgMAjA60GTaO1FF3qI1GSkEtpY022xiGfVX3jbWL75Krm6TX2jyMJmqrRRoAYKSgzbBxhvoqIpwb0OZhtGqcr82+7T569OhNu3Zx0wwAowZtho0jCZRwNjKpzShoPiEequlUJVbHOW7RZlXyhLyivhLm3bv3TLYBAMbJyLRZqnz/QweltS4PHz4yaZgL2rw8JJB5EG1ZjUU3zeu6bxY1mlql/dUt2iwUzW5VpDXWGy6+xCMCAIyXUd43rxe0+RyhijcAwHhBm2EVkCrnVntiAgAYLWgzAABAX6DNAAAAfYE2AwAA9MU5oc0AAAAjAm0GAADoC7QZAACgL9BmAACAvuC7YAAAAH2BNgMAAPQF2gwAANAXaDMAAEBfjE+bDx85Jq1VWfBHqMQGtPnAgYMXXHjRufwvmocrkJ9+UslPSqhy7969rgv/amTt0vz81BzUJb9bJdLX/yvbRXUP4c38BqXIb1jVX6YCABgjI9PmJ596WpJ8+plnVdn3tUNHH3t80jCX9Wqzruw7dl7ui77k4dz8aSNNX0ppiTURS6ugJXmozep12Y6dWT13WYSp2qxN7YuqtdVNr82PQspTyo02A8CoGfEzbYn0krRZYlPvC8/N+zAJ3ixtFloW16dq8+7de66/4UZt1i5rsgFtFsnEoM0AsAKMVZt13/zA/sPHTzwx2Z7LerXZqiAN0FVeGnNuXuvnaLNWI88Vpmrzvn0PyC63dFmEqdqsikKdV56iD93SJNBmAFgBRqnNp5959sEDjxw+cmyyvRYb0Oabdu3SJV6qc85e66dqsz/lVYkeT9Vm9ZXR4qoyaVuLWdpsrNAKizYDwMozPm22MC/+RTCxgWfakR9pQPNM9RxhqjYPhXaWNmvF1KS3OMMus5ivzUIDSXdPnjxZ3TRKdUObAWAFGJ82S5XXJcxiA98Fy/Vdl/56W3busEltVn337j2qp4uMF1x40TBCJUKrxc9j86CmRps1dPNtgLrvAABGysi0+ehjj0toU3QDrdvoSdts1qvNQhd9P7zVhb7q07nD4trshfJaVeFsxFh6KR2d/0bHPo7mjtkRKpZhpaSBqsV9jTbRZgAYO2P9Lti62IA2w1CbN4k1dajuWwvaDAArANoM0/Fdr+5NJXWbV2jf/i5VmKXHvuce3kwDAIwLtBkAAKAv0GYAAIC+QJsBAAD64pzQZgAAgBGBNgMAAPQF2gwAANAXaDMAAEBf8F0wAACAvkCbAQAA+gJtBgAA6Au0GQAAoC9Gps1PPvX0vq8dktaqLP5LkRvQZv9z5gsuvMg/qbQuhv+JevhjSrLkF5m06Z9nuPnmW+ImB7cugkbJrz8JxRn+iJPq/rUJb25gajW9JK9KTdVDZOLJZHGanG1UkCQ8axbeZTLy/7QBYOyM9b759DPPPnjgkaOPPT7Znst6tVmX+x07Lz948NDwJ4QXQV2aX3CSxjS/jVgtVZutZGpdl8BorKE2exY1SHXT6xsuviRdFiHpKabSs3AOtVlDXLZjpyOny4Io1PBNg2JqlN279zjU/FlkMSfbAAAjZKzarBvoB/YfPn7iicn2XDb2TFvX97OlzesdusqVcBxtztFmoQQ83IIkPZG+qgy1WTp6/Q03arN2WYSpKSlhRdOrV3X+LLKYk20AgBEyPm2WHt//0EHJ7eEjxyamtehBm/0MNk9c52uzWmWpEebTyFXiaAiNmIGGbmlahIStK6MIQ23et+8B2euMFqFJLyiChkjr/FlkMSfbAAAjZNzPtBeU5xHdN1f9dusiDOWqKqIGUswqb7Y3qrYmSc/RbFSE1EWGkNFp1EzmM3XBa86ONn8WWczJNgDACBmrNgsJ84JfBxvXM2111Oa6VHMoVyquGw2nmCdPnqxuGqJxm88wrFCQqdqs6ajppl27Fh/CE6/RhEL5i3Uua84iiznZBgAYIXwXbCa6vi9Pm+Wj4JYQSYtbI37yr1+JUkWb80UuEjU1bTU1qqYh6t35IkOodeigcadqs+q7d+9RPV0WHKJ5ZlAHlV2zOHbs2KxZCPtUCwDA6BiZNufDZpUFhVmsV5t1ZdcVv96rVaFdE8nGUJsTLVoiyRlaokP1dtD5NOreUHN2x+GgvjGtFvcViwxR0wvqklEa+W/EeJEhhPwT8K6771bMqv3qbqMdmlkIbaq1MQIAjIsRP9NenI3dN2+YoTZvEmvqUBe3kNUYQqDNALACoM1bj+8XdVcnkdi8Qvv2d6mSthpDSI91Gz31ZhoAYFygzQAAAH2BNgMAAPQF2gwAANAX54Q2AwAAjAi0GQAAoC/QZgAAgL5AmwEAAPqC74IBAAD0BdoMAADQF2gzAABAX6DNAAAAfTFKbX7yqaf3fe3QgwceOf3MsxPTXDagzfkRpy35n9gwlan/ePzm8jtU2gv5L9kq+UfZ1Sc/bMX/0waAlWGU2vzw4SMPHfwHlSVps3RCV3xd37fnp5POWYY/2KWlbpRV9fyulFqtxKp4p8guf0n4i65nqP4AACNlfNp89LHHdcf86PETy9PmSmQAtpxGm/1OqAqtaLTZ+6LuFKl13UFoMwCsACPT5iefevqB/YePn3hCZRu0eapawFbRaLM2d+y8XLKaZ93NM23tCztHm9WqLvI/E+BF0GYAWAFGps0PHz5y+MgxVbZHm3VPlo8zYcuZpc3e1Mpbm+t9c55pW62t32fcJ6DNALACjEmb/RUwCW3K/Q8dlEhPmmezMW2WDORGDZZBo80S1HoTPNTm+Oe+eQjaDAArwCi/CyaWfd+sSz/CvGwabRZ12effN6PNALDCoM1TkGb4804X/iZnSQy1WUh9s/Jrft48BG0GgBVgrNq8Ljb2TBuWzVRt3iRoMwCsAGgznDXyfCI3xJshd9g85wCAsYM2AwAA9AXaDAAA0BdoMwAAQF+cE9oMAAAwItBmAACAvkCbAQAA+gJtBgAA6Au+CwYAANAXaDMAAEBfoM0AAAB9gTYDAAD0xci0uf6E84I/3izWq82nT5++4oorm98+6orhf6K+d+9eJ6zi32jK/5dWkbO6yKf+r2ltrnd2dRTVk4aLo+VHopyA3Nx3TdT36ve9XzG96Tjq7t+FFAqoIfRa08iMPFy1AACMlPFp84MHHtHrZHsxNnPfLGGw0nSFBGzWLzhVabSS2WjhzHRUl2Vx4RRytsZPtr8bRXa0JBDLgqxLm2NsqLMGABgpaPM8NiBg28N6tVn+O3ZerrpQRZtz5G0W8nfkIQp4/Q03uj7U1AVBmwEAzIifaT98+MjEuhYb0GZd3P2AdL0Csz2sV5tlyURUV9+qgovQCGdFTQoeOVR86bQsU9Obg/yVcB5WqyjULG2Ojyx1oDprAICRMtbvgp1+5lndQB8+cmyyPZdNPtOONvTDgtrstxeNgNm+3kmpl2+4J9uFjGhUH0rmIsi/yr/Dct8MAOcgY9VmIWHeBm2WDGxAZpbNgto8S6UkbJrXZGMxNJaiDXspvqLVTJyAynrlH20GADBj1WY/3D762OOT7bls8r5ZCjHZ6IahNt95550WpCQ8R6Xk06isAl5w4UXzZ6rW4Vegh6HkpmItrwHXHGKqNmvTn5TbYklGmwFgtRmZNh8/8cT9Dx2U1qosKMxivdqsK3ueBs/RkrPIUJuTc0RrjkoNBdXdZwle0Gp4WVQUwXIbi5Xbmipnx8wCrjnEVG12pcaXBW0GgNVmxM+0F2cz9819MtTmTTK8zd1ytmEIgTYDwAqANo+S3LBKhzav0LoNVailquY2DCE91o11vb0GABgpaDMAAEBfoM0AAAB9gTYDAAD0xTmhzQAAACMCbQYAAOgLtBkAAKAv0GYAAIC+4LtgAAAAfYE2AwAA9AXaDAAA0BdoMwAAQF+MUpsfPnxEcquy1N+I9G8z8M+Z+yQ/TpX/0c3/0waAlWF82ixhPnzk2GRjMTamzbroS5v5UaM+0d6Z+ssZ2lnsMgAYOyPT5uMnnnjo4D+cfubZyfZibECbD5z5Sf+DBw9xoe8TtBkAVpiRafPRxx6XNj944BHJ7b6vHXryqacnDXNZrzb7afa9e/dyoe8WtBkAVpiRafPhI8fuf+ig7p5df/jwEdvns15t1kX/2muvU4ULfbegzQCwwozvvjl6vPjz7XVps2+a/T2jFN1DT5qhD9BmAFhhxvd58wP7D/tR9vLumwMX+m5BmwFghRmZNgvdOktrVR488MiCXwpDm1cPtBkAVpjxafMG2LA2Q7egzQCwwqDNMEokzP4qQBRaesz/HgGA1QBtBgAA6Au0GQAAoC/QZgAAgL44J7QZAABgRKDNAAAAfYE2AwAA9AXaDAAA0BdoMwAAQF+gzQAAAH2BNgMAAPQF2gwAANAXaDMAAEBfoM0AAAB9gTYDAAD0BdoMAADQF2gzAABAX6DNAAAAfYE2AwAA9AXaDAAA0BdoMwAAQF+gzQAAAH2BNgMAAPQF2gwAANAXaDMAAEBfoM0Ao+e+Bw+MvUxmAgBnQJsBRs/YtQ1tBmhAmwFGD9oMsGKgzQCjB20GWDHQZoDRgzYDrBhL0eZrr73uvJe9POWKK648ffr0pG0TKIhC3bt372S7oBFVJhsD5nTcDDWs65rsnDSWxM0337JVK7xslOri67Mu55Vk/lFdWWFtXvwwOHHixMWXvFH+k+2zipNZ/Jqz+FlcLzuL9zLKasfOyw8cODjZ3jRKo5OLj5ZCC64JTrYXJgeYluUNF1+yhYuzSZalzfUM0eYFF160+TnXg3JdzOqYvbIxdBworI+GTYY6R1jXKrGkizNV204e3vvZd5537Eu3TbY3x8P/7wNfuvFNk40N8dzpJ+++5oKpQdarzbqYSGOaC/H1N9zYz4V1eWz4MihWQJunTkGb2vuTjXWy4HVm+y9H26HNYksm1ps257jccGLnGuta8O0/GcbLVG07ffKbf3nV9/WjzUIRlqTNqh88eGiysdJs5mqzqtq8b98DG85hwevM9l+Otkmb67mk14sveaMfd896CjHVxwflnXfeqVc35QCtC1f7Oo16NCsT3cTb3z6O05zts/aEQ6WjfBzQm/UwnZ/t1e97v+zq+KUvfTnZqshyxx2fr5kovp+0OCW92jPp1dMjk7Ilzi7NjJzh7t17nEB9tuEm94rdo9tBlQyaBOrKp7XiKaji+PGpedYh7KzRp+4aWWRX/l5/2ZOAXu3f+MTupmSbQSvVoXYMc4IroDuqeL9Xi4qmUHdc9rLqDqt6ZmrjnGzPBW3OMXPX3XfXZVRTXZzsBfvftGuX9o7XWQuejsM1tP+aJ+ytt96WICoyKh/Ht7N6KYdjx47J6Aje0cpE/oqgPZtMsn/t4yDOpHEIbq2RM7Sc3UsJHDp0OGui4nF9aKmXm2x03/mDiqkONYHhIeouucKoV4LUoYX83VGe3n2O7EVzXxnVRR1tybjpq+Jxa1bqMjyzVA/q4uC1tclHDhnCu1tDnOk9maPH3Vq2SZszbVU027SqkkUMs3y8Ctmpes2iyyfrq75euAzqjjKqru5Z1vQSapKzunizNoUmMTk4lPrq1NUotpv52TaHpvG6JVsbk4kqOjI8un1cl6fqsqQiY/NGUmPV2RkH8cGnTY3i7rZn+gprn8S3Q6agNJKJiipeKNcrclPYJr6MyaF2tLMqTfKx29kpyUf5OI7jO6XqY3vtm2x9nKge7OAgQhUH8aaZFVx1XVP0qvqwY6YjMq7csnNl8eGkzQWznaNt4eThvV/83Z9S+b+X/XMVa7aMf/Xe86XitS75/OqfXvXZd55nKbWztFnGu6+5QJtqkvOZqC9qtgPqfUDiaBQ52y4He85hTW2uyyuyhqp7cbx0QpW6R+ri79r1SXfRSqqL68H+i5+w2RGp2K4k5e9o3mV6zc7Vq+qeSB1CPjVtO9cgoRrTS3XFzProHUadnVNSRUZNPHNXd9cXHHTokAQc2UbVvSD29BB2yDLWbBXWQVy3XaHqGaGOTXDVhRwyHQ8ht+ojh+GZ9WLPl8iI6aWiimMePHjIlbg19eq8tWy3NmdfNnZvmlk+3tPeQyYDZbGavrKruKPfvtXu6SWaJa5NoRpr5lOdF8m2UjNPvQZpesWnVnKYVmqQSmPPCjRLETdZVNGrUCY6ymVUqypeh0omW/EUXGwZ5pZppjJr18iSXeA4GXGqj9BAcpNzKrbLP31N49DEMbOCe9M0yTvPzFdJun79DTdKzjNxJ5NZrJntgtpsuVVdWiuVfe70k7O02Tfc8vftsl6twVZ0Gx3HlVr3QJbkGn8Oa2qzy8T03as6a081S12ZujeH/hqx2RGVtIo4TB29Zqim6PFUHzXVA0b2ZuhFelXio3oz8YRac9BZDgleRxFaEJXEt1FdEjb+jY+G0KZem4Dq6NWuU2j6iuwIvdo+9cyqpEsiq2QfhbiJmkO1by3b/Uy7mclwccUsn6l7wgOliyp6l1SL7O6oup1Deolk6M3aZJrRq788m8hikWxDM3r2vUre6DW90qQhNJB9VNc0m/f4U9MTs2ZUAxpHiL+KNvUqe83QDln54aCyyF6DZ6beFBldzp5vErND7E1fGdXX9Vk+NXjydLF/SATjqSW+mRXc9USub5gUU5FdFx5FrXo9evSouus173WSw5rZLqjNQxmearQYN5vRY3vqzljSLotvjl2Ger8g87VZ883CmnpIZJVM9tRwl6mXTg0v4PA+eOivyCquNAveWJKPutteo+k1+ctHdWc+1UcVZ5iSvmZWr8bN1IUSqtQjVihb9V1z0FkOGVcL0jgosuxqlY+DZD1FOiolnSC1o3dNHOyvaO5bpzCcTs1HXeSg1+GZVbGnKjWaXn2o1OTtZpyPBpoac0vYJm2OpVnxqXOb5aOK7FkskbBZOLW6UnFH3zfXxNJLKH49iGuTaY4DtdpheHyYRbI1Q09hZxdbml5ZpVQmDWfmMnxW5qZKM25WIBXbhca1m3PwF2LloO5aVWfVRHP+rgd3V0lKTS+hugNmvk0+sTcrL2PizPKRg4fOKLOIpzdVGR6oc4Knb02+iSncqjX0Wikl1eVj/8xizWzPojb7TrpSYy7IIvfNdenmrKoqUy8XtUuz40zjLzSo90t2hKmhTPrKzRFqNL0mQ/VS3X2n+ii48rfzVGb1alIS1dM0E4/DmoPOckgCqtQlMk0CWkavp0hHMTyzRBy8mX1Rp6DWGl8kDTnIbdaZVcnObRZHyJJHrXEzTm/fvgfmr9tmWLo2e/myyp5tWlVJU5jlI2oorY7cvNbyyfpmNYM7yjiMnOWuHbV79Kap7gnhIO4rN72lct0HgdOoLJKtUb0ZSyjsZTt21sjqlTf7NVu9ehQdfGn1QaYyfDgTsizelJuHsz0p1czlo6xyOEqkFd8RMqjrdZ1DJq7XrIyMie+ODhjnalT87Jo6opAxc6l9q48cPG6NORU7ZAqqJOEwK3hGF6p7dnIb7gs5azG1pLYrguq1b2YxP9vNaPNfvut79eo/cPJnxmtqsy2q6DUfM4c60IIofy2FVm84xyyCXrMLtFw+VlWftaeagNk7rudUCvavPt5xqicHMWtfyKL9m1Ojjq7XhFV31R12qo+Nmc6QOb2SpD9v1mYsxsnH2KzVmoMOHZLA1GVxrxjVPRHS0fbUQ3UQytl9NVA96WTMbqo5qOOcM6uiCLYnspwTJPnHzTh+rn7LYFnanAcU9bGA8Qq6abhLzFQfr9RNZ754KXs9u+rCyWiH+NQldqtjZhQ36dW9PMpwR8ZBTSo+VmRMhpUFs03MFCfj7jUH9dLRIKPdPLpIAjWU6o4Qi4rd3EvYwcMJpZfrXe2bQz/2DK1KbdVmulS3IItn5DhZk3RUST5xFpmaemXXaNx6lso47Nv4yEERvAgyeteo1L0T1Hd4EFZmBa8dtcvk42/t2uKSgEq1SWnqCszPdsParLqE1k+kD93+EclzxHiozXl2HZEW6a5iwd6YNmvRtA56nZheIougJZJD5i6jliJ7ebin7J/F9GZ86o4zdljzhPW4KTn+nYM87VZHr0ddneYcn0xHJVMws3rZ7i6q1G+zu8hZkTVxzdGWJC/mDyqmOtQEhodoTVVocbI+taOoq+qlHjqkrypyS6s3XTKWkL3JrbYGuXlEL44860QyaKZfp1MXcMtZijafU9SDptIcl+tl2D3HUP/o4N7wvwLYZrTCU3ffuFhEm3tG+Z/1HbHJEzZX9qmbY2FEZ+5ZZ9kXZLR5U8w5nzd5qmvHq7uCTLZHpc3+QHqy0TFaXi3p8t75bhsroM2T2tljkyesDqR6eipOc/6OgrGcuWcdrdKcjwu3BLR5WWz4VNf+vuClP9WdmM4wIm1Wqkt92rOFaEnHeA1tQJs3z4ZPWHU5rzxi9aYf6tphRIzozD1b+DipD7eXBNoMMHrQZoAVA20GGD1oM8CKgTYDjB5p29jLZCYAcAa0GQAAoC/QZgAAgL5AmwEAAPoCbQYAAOgLtBkAAKAvzqY2r+uP/Tf8nwEWZPh/uFYDrVjzzwSaf2B0YMZvdSzC8v4dSpPkfJT8nP+PuKQ9u965a0csnsa6cp5zasxfxvnrNhV10eF03kv/vngL/8OGppywKtqcNGw7WrHFR1/Xbt082WXeEcu7HsJZB21ecZrrr0/pqtabubisV5+WRDPH7WG9c1/eRXzDp8asdZsjTnJWl3rwSEfXHHoRtVuXIi6VdWWyvN06lbNyqMNZAW1ecbxuudZoAd9w8SX1P8Fu5pqojuo+2Th7oM0bOzU2oM3DWcsyf16LpNeV5KzrjFjebp0K2nzusPXaXI/set4OD+J60upou+DCi9zRdj/aykOz6iy3XCCq3UP4F9DcURbHiX/1Gdqdnk6APLibdZbKbgffg6r7mimp7sxVMi/VHSej20fOtieBJisXNwnVE6FBTcnNvbTpvnNOdTl4rJqDSGJK5vobbnRkT/POO+90U82kpu21kjEJCFXi7ziqy5icM2J9giofedquNDyLOlb8E9MdhfvK7k0NlLE07jXXfKi22tnZJpM6d6+hd7EsGlGbnqbIRGoasngp6jRrVtW5UieYxXRHLb5e3ZTk5y+jM3fdrXfdfXeC1NUOiualCHW+NT0VeapVcbzpGTnb+Di9GiR4EXLu2JKOTs/RZFccGb0mcXMvURNr8jcyulXRrn7f++NTR8xKVuTgeakuh+yUqR3tPLz4TE1vagR5epdl4rbD6rH12pyD1UdPznAdc81ZkcPLJ7CPMxvr0ezDPc4yKk4cql2vObj1mmNa8XOnWH3quHpVHEXzeWJjzgTVKwprZ9V37fqk3GTJ7Govp5EmuWnTwb3pDOssZNHVQZd+1WXx9Guqqu/evUd197VleGkLadUoiqzN9J3VUQnnKqPXLEjyUV19lZLjyJ7VFqq47r6ZvipeN/m7IlQZHiR6TeSM2PRKWHkmQpDRDullu0l8Z5ghZJR/WkWWqGZS5+4IQ39v1ok4DW0mnzqQJyU31afm7IE8KaGKfdwxK6DXHO119CSf4NpUqvKUpS6gumSUigdyhkG9PF9VFMSt8vSRpnqGU72Zggayv151/LgkE7lpM86q1PVX/ExB81UEp6eYnrL8M0119EDJ9sWILxFP1Z2JB1U9yTh4kgnycV8NWoNM7ViDqzXLlQWX8759D9hzagTPV3Yb3R1Wkq3XZh09Omj0KnTM6RTSAaQjKedq8OElmcmZI+RTT54cgvVY1GHq0686qK5X1WVRXXFyhZrlI3JWxN44qNUOoclQ1PhCDr5wqK74TaqJVgdKtvapdodKnqEZpWmtOKaGUxdnnop6Jb0Q/8l2WfBmoNibRUv8xi6L7GpVRXa9CkUYHiRTR4xD4tuuisN6U9RxmxyMnL16qjgBVRQnWSXgmnOvzkKVmlvcnIbumWoyaRUyqkluqk/NuTFm3NrRJNXEj0XIP/NVBJ2AOVNMda40MzUa15JZe9VFSA5NvUaTfTiiPKc6i8SRJQrndUgXGV3Xa4Kr0izsnNWrHYV8mr7Cxma3zurYRKgDqdhoZkXIOqgui+wTD1g5tl6bc9Co6PDSq44zHUy+FE6czmDP+tZY5CicbL90mNZjUZs5lKu99tVBrLqvDrN8RM6B2LWplGrJWEaejWXWhUPRfBG0vaYk6kC5IZgaqoljEq2Z0VQ8zWQuZ3Xxpl7tE5ochIc4efKke02sZaZ2SA7JLQ4m46aiksQ0Yg6STFxuWSUX92qGqwmrok0Zvdk4m3Tx6HpNGnZQRRb18so7Ezm4VThDVeaPHjf1VfLZ0Satog6h12HO1VnEf2puKq6oix3qGqrIX5koH9fd0aiLuzdMzUrOKs0iVE+1On6TZxZqmL+QsR7zzdDJsNqbHOzj4Jm1jG4NTS9RO9askvBk+wxyUNi6W+d0nDUL1xXHrXMiCGc79IEVYynfBdMBp0PNP9Otg0nHkN6bD88KH16+b84xOjwB1FGHYD0WHd+t1a5X1WVR3eM6ziwfoTgeOnZVhqlW6uhGOUdUNGKm08xl1tCVGkrYRxF8Qtpo5CPPffseyNTm4KHlH09Fzse0tgRFbmKq7ik3OWvTdsdP2pl4Y3fOHtHLOOsgcasqeq2ZmMTP5tRnJKbJISiybnf0qjjqq8S0mdm5l5Y3u0OeU+fe7J0mt0zEATVEvY6nVdTMp+bcGFXxYtaOJqkmvl6rg3HmWvbcepp0b6jZGo3ula+zdj72rItT60IOnk5jNzWgqEOrafg02PbsrKzJ1OCVZvW86Zg1uKjxgzrKv9mtszraOREaN6FNO8yKkOmoXtOG1WMp2qxD57IdO3Mc6/qrE3h4GOXw0gEXPbNRh6Z91OqDvh6LMaquXnq/GbuPbNXVqrp9mr7xETkHYncydp6KmjK6P2yORd0160w2Mc/0ay9tNU6oPknbFeeptdXF1A7ydPGmaDaDJ5VPsITCKs/htcZorOTmvp5RtSuUAno4tWYv1Gzd13WhShZk/kEiz0TOiKEJK89MbbgCilD3QpBdI2pc1dWqTJRP1seWJqWpc5elXv2dm3tVt6RR48iYuuxTj+TgyJm1KvYRqsS/iZnRYwzadObO00MLdckolcauehJOqMYui+we13narlf5OFr1CXKoK5BNB/FcXHdAoWierFCrmhxTxtinotaMVRNTPceVx7K9ksTUlBWe1THOL/Z8aT21KWm3MQ6zIii+19lGuTnO/AnCGFmKNteDSdSjtlIPLx1tOhZ9XNquM0QlHauz0LFoBx3WsevVEVRXL9WHfauP8OnR2J2M4+cMqaiLW31KOL6dHcfjyi2LIOTsHEJmkVGSj5Al1yy9aimqp5Bns7Dq7pQanGGduAPW9BrU5NxUatqxK5oW38N51hIzN9Uckrm7JAGnlASauWgzQWomiVDD6s2KL1hKI54usji3jBscIVPTcI1bk5JIJvLM3OXg0e0jkkZ1q2nI4txSV5l1JFfqrOOgVw/kg7Y5Qjy66+6YvjVz52xnWRSkxhEeJRESZNJc4teJpJdatelRVDSQSoxNKKEmt5rEUVbe3UpeyKhX+ySgqDHlMFy0BvUdJiaSsErNJ9SBHEQW24cdq7PIQBm9Hm9TI6jVu8wL4rGcsx1gZViKNsM24JNz6vVi+2kuOquB1vZsXfLO4tAA0ANo81jR5bsfOVw9bdatyRu++9vL20a9JQKAcxO0eXxIlc/77ufGZ51V0mZLo1Z4+9UxQ3PTDHCOgzYDAAD0BdoMAADQF2gzAABAX6DNAAAAfYE2AwAA9AXaDAAA0BdoMwAAQF+gzQAAAH2BNgMAAPQF2gwAANAXaDMAAEBfoM0AAAB9gTYDAAD0BdoMAADQF2gzAABAX6DNAAAAfYE2AwAA9AXaDAAA0BdoMwAAQF+gzQAAAD3xT//0/wFT1rWbbWqmggAAAABJRU5ErkJggg==)"
      ]
    },
    {
      "cell_type": "code",
      "metadata": {
        "colab": {
          "base_uri": "https://localhost:8080/",
          "height": 204
        },
        "id": "cIWN5zbJ84Af",
        "outputId": "2a3355da-7f63-474d-bc6b-9d1daf9b0aa4"
      },
      "source": [
        "import pandas as pd\n",
        "\n",
        "data_dict = {\n",
        "    'currency': [['PLN', 'USD'], ['EUR', 'USD', 'PLN', 'CAD'], ['GBP'], ['JPY', 'CZK', 'HUF'], []]\n",
        "}\n",
        "df = pd.DataFrame(data=data_dict)\n",
        "df.head()"
      ],
      "execution_count": null,
      "outputs": [
        {
          "output_type": "execute_result",
          "data": {
            "text/html": [
              "<div>\n",
              "<style scoped>\n",
              "    .dataframe tbody tr th:only-of-type {\n",
              "        vertical-align: middle;\n",
              "    }\n",
              "\n",
              "    .dataframe tbody tr th {\n",
              "        vertical-align: top;\n",
              "    }\n",
              "\n",
              "    .dataframe thead th {\n",
              "        text-align: right;\n",
              "    }\n",
              "</style>\n",
              "<table border=\"1\" class=\"dataframe\">\n",
              "  <thead>\n",
              "    <tr style=\"text-align: right;\">\n",
              "      <th></th>\n",
              "      <th>currency</th>\n",
              "    </tr>\n",
              "  </thead>\n",
              "  <tbody>\n",
              "    <tr>\n",
              "      <th>0</th>\n",
              "      <td>[PLN, USD]</td>\n",
              "    </tr>\n",
              "    <tr>\n",
              "      <th>1</th>\n",
              "      <td>[EUR, USD, PLN, CAD]</td>\n",
              "    </tr>\n",
              "    <tr>\n",
              "      <th>2</th>\n",
              "      <td>[GBP]</td>\n",
              "    </tr>\n",
              "    <tr>\n",
              "      <th>3</th>\n",
              "      <td>[JPY, CZK, HUF]</td>\n",
              "    </tr>\n",
              "    <tr>\n",
              "      <th>4</th>\n",
              "      <td>[]</td>\n",
              "    </tr>\n",
              "  </tbody>\n",
              "</table>\n",
              "</div>"
            ],
            "text/plain": [
              "               currency\n",
              "0            [PLN, USD]\n",
              "1  [EUR, USD, PLN, CAD]\n",
              "2                 [GBP]\n",
              "3       [JPY, CZK, HUF]\n",
              "4                    []"
            ]
          },
          "metadata": {},
          "execution_count": 54
        }
      ]
    },
    {
      "cell_type": "code",
      "metadata": {
        "colab": {
          "base_uri": "https://localhost:8080/",
          "height": 204
        },
        "id": "5rYNHHS4DKGJ",
        "outputId": "86d2d553-7f85-4fea-da45-d9be076bfead"
      },
      "source": [
        "df = pd.DataFrame(data=data_dict)\n",
        "df['number'] = df['currency'].apply(len)\n",
        "df.head()"
      ],
      "execution_count": null,
      "outputs": [
        {
          "output_type": "execute_result",
          "data": {
            "text/html": [
              "<div>\n",
              "<style scoped>\n",
              "    .dataframe tbody tr th:only-of-type {\n",
              "        vertical-align: middle;\n",
              "    }\n",
              "\n",
              "    .dataframe tbody tr th {\n",
              "        vertical-align: top;\n",
              "    }\n",
              "\n",
              "    .dataframe thead th {\n",
              "        text-align: right;\n",
              "    }\n",
              "</style>\n",
              "<table border=\"1\" class=\"dataframe\">\n",
              "  <thead>\n",
              "    <tr style=\"text-align: right;\">\n",
              "      <th></th>\n",
              "      <th>currency</th>\n",
              "      <th>number</th>\n",
              "    </tr>\n",
              "  </thead>\n",
              "  <tbody>\n",
              "    <tr>\n",
              "      <th>0</th>\n",
              "      <td>[PLN, USD]</td>\n",
              "      <td>2</td>\n",
              "    </tr>\n",
              "    <tr>\n",
              "      <th>1</th>\n",
              "      <td>[EUR, USD, PLN, CAD]</td>\n",
              "      <td>4</td>\n",
              "    </tr>\n",
              "    <tr>\n",
              "      <th>2</th>\n",
              "      <td>[GBP]</td>\n",
              "      <td>1</td>\n",
              "    </tr>\n",
              "    <tr>\n",
              "      <th>3</th>\n",
              "      <td>[JPY, CZK, HUF]</td>\n",
              "      <td>3</td>\n",
              "    </tr>\n",
              "    <tr>\n",
              "      <th>4</th>\n",
              "      <td>[]</td>\n",
              "      <td>0</td>\n",
              "    </tr>\n",
              "  </tbody>\n",
              "</table>\n",
              "</div>"
            ],
            "text/plain": [
              "               currency  number\n",
              "0            [PLN, USD]       2\n",
              "1  [EUR, USD, PLN, CAD]       4\n",
              "2                 [GBP]       1\n",
              "3       [JPY, CZK, HUF]       3\n",
              "4                    []       0"
            ]
          },
          "metadata": {},
          "execution_count": 61
        }
      ]
    },
    {
      "cell_type": "markdown",
      "metadata": {
        "id": "1cEMsH14EZpI"
      },
      "source": [
        "![2021-08-22 20_13_52-Machine Learning Bootcamp w języku Python cz.III - Ćwiczenia _ Udemy.png](data:image/png;base64,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)"
      ]
    },
    {
      "cell_type": "code",
      "metadata": {
        "colab": {
          "base_uri": "https://localhost:8080/",
          "height": 204
        },
        "id": "DAMY_Oi-EeEi",
        "outputId": "a997a5d2-65ff-4cc7-f251-5287cf4b9591"
      },
      "source": [
        "import pandas as pd\n",
        "\n",
        "data_dict = {\n",
        "    'currency': [['PLN', 'USD'], ['EUR', 'USD', 'PLN', 'CAD'], ['GBP'], ['JPY', 'CZK', 'HUF'], []]\n",
        "}\n",
        "df = pd.DataFrame(data=data_dict)\n",
        "df.head()"
      ],
      "execution_count": null,
      "outputs": [
        {
          "output_type": "execute_result",
          "data": {
            "text/html": [
              "<div>\n",
              "<style scoped>\n",
              "    .dataframe tbody tr th:only-of-type {\n",
              "        vertical-align: middle;\n",
              "    }\n",
              "\n",
              "    .dataframe tbody tr th {\n",
              "        vertical-align: top;\n",
              "    }\n",
              "\n",
              "    .dataframe thead th {\n",
              "        text-align: right;\n",
              "    }\n",
              "</style>\n",
              "<table border=\"1\" class=\"dataframe\">\n",
              "  <thead>\n",
              "    <tr style=\"text-align: right;\">\n",
              "      <th></th>\n",
              "      <th>currency</th>\n",
              "    </tr>\n",
              "  </thead>\n",
              "  <tbody>\n",
              "    <tr>\n",
              "      <th>0</th>\n",
              "      <td>[PLN, USD]</td>\n",
              "    </tr>\n",
              "    <tr>\n",
              "      <th>1</th>\n",
              "      <td>[EUR, USD, PLN, CAD]</td>\n",
              "    </tr>\n",
              "    <tr>\n",
              "      <th>2</th>\n",
              "      <td>[GBP]</td>\n",
              "    </tr>\n",
              "    <tr>\n",
              "      <th>3</th>\n",
              "      <td>[JPY, CZK, HUF]</td>\n",
              "    </tr>\n",
              "    <tr>\n",
              "      <th>4</th>\n",
              "      <td>[]</td>\n",
              "    </tr>\n",
              "  </tbody>\n",
              "</table>\n",
              "</div>"
            ],
            "text/plain": [
              "               currency\n",
              "0            [PLN, USD]\n",
              "1  [EUR, USD, PLN, CAD]\n",
              "2                 [GBP]\n",
              "3       [JPY, CZK, HUF]\n",
              "4                    []"
            ]
          },
          "metadata": {},
          "execution_count": 62
        }
      ]
    },
    {
      "cell_type": "code",
      "metadata": {
        "colab": {
          "base_uri": "https://localhost:8080/",
          "height": 204
        },
        "id": "WEVNAe0JEoOy",
        "outputId": "7e676f79-53eb-4440-a15c-6dc8961497f6"
      },
      "source": [
        "df = pd.DataFrame(data=data_dict)\n",
        "df['PLN_flag'] = df['currency'].apply(lambda ex: 1 if 'PLN' in ex else 0)\n",
        "df.head()"
      ],
      "execution_count": null,
      "outputs": [
        {
          "output_type": "execute_result",
          "data": {
            "text/html": [
              "<div>\n",
              "<style scoped>\n",
              "    .dataframe tbody tr th:only-of-type {\n",
              "        vertical-align: middle;\n",
              "    }\n",
              "\n",
              "    .dataframe tbody tr th {\n",
              "        vertical-align: top;\n",
              "    }\n",
              "\n",
              "    .dataframe thead th {\n",
              "        text-align: right;\n",
              "    }\n",
              "</style>\n",
              "<table border=\"1\" class=\"dataframe\">\n",
              "  <thead>\n",
              "    <tr style=\"text-align: right;\">\n",
              "      <th></th>\n",
              "      <th>currency</th>\n",
              "      <th>PLN_flag</th>\n",
              "    </tr>\n",
              "  </thead>\n",
              "  <tbody>\n",
              "    <tr>\n",
              "      <th>0</th>\n",
              "      <td>[PLN, USD]</td>\n",
              "      <td>1</td>\n",
              "    </tr>\n",
              "    <tr>\n",
              "      <th>1</th>\n",
              "      <td>[EUR, USD, PLN, CAD]</td>\n",
              "      <td>1</td>\n",
              "    </tr>\n",
              "    <tr>\n",
              "      <th>2</th>\n",
              "      <td>[GBP]</td>\n",
              "      <td>0</td>\n",
              "    </tr>\n",
              "    <tr>\n",
              "      <th>3</th>\n",
              "      <td>[JPY, CZK, HUF]</td>\n",
              "      <td>0</td>\n",
              "    </tr>\n",
              "    <tr>\n",
              "      <th>4</th>\n",
              "      <td>[]</td>\n",
              "      <td>0</td>\n",
              "    </tr>\n",
              "  </tbody>\n",
              "</table>\n",
              "</div>"
            ],
            "text/plain": [
              "               currency  PLN_flag\n",
              "0            [PLN, USD]         1\n",
              "1  [EUR, USD, PLN, CAD]         1\n",
              "2                 [GBP]         0\n",
              "3       [JPY, CZK, HUF]         0\n",
              "4                    []         0"
            ]
          },
          "metadata": {},
          "execution_count": 63
        }
      ]
    },
    {
      "cell_type": "markdown",
      "metadata": {
        "id": "RI-XN0C-GMQH"
      },
      "source": [
        ""
      ]
    },
    {
      "cell_type": "code",
      "metadata": {
        "colab": {
          "base_uri": "https://localhost:8080/",
          "height": 173
        },
        "id": "7mOHu0NLFXLv",
        "outputId": "9d857277-2923-43f7-9879-e82f0fbdf6bd"
      },
      "source": [
        "import pandas as pd\n",
        "df = pd.DataFrame(data={'hashtags': ['#good#vibes', '#hot#summer#holiday', '#street#food', '#workout']})\n",
        "df.head()"
      ],
      "execution_count": null,
      "outputs": [
        {
          "output_type": "execute_result",
          "data": {
            "text/html": [
              "<div>\n",
              "<style scoped>\n",
              "    .dataframe tbody tr th:only-of-type {\n",
              "        vertical-align: middle;\n",
              "    }\n",
              "\n",
              "    .dataframe tbody tr th {\n",
              "        vertical-align: top;\n",
              "    }\n",
              "\n",
              "    .dataframe thead th {\n",
              "        text-align: right;\n",
              "    }\n",
              "</style>\n",
              "<table border=\"1\" class=\"dataframe\">\n",
              "  <thead>\n",
              "    <tr style=\"text-align: right;\">\n",
              "      <th></th>\n",
              "      <th>hashtags</th>\n",
              "    </tr>\n",
              "  </thead>\n",
              "  <tbody>\n",
              "    <tr>\n",
              "      <th>0</th>\n",
              "      <td>#good#vibes</td>\n",
              "    </tr>\n",
              "    <tr>\n",
              "      <th>1</th>\n",
              "      <td>#hot#summer#holiday</td>\n",
              "    </tr>\n",
              "    <tr>\n",
              "      <th>2</th>\n",
              "      <td>#street#food</td>\n",
              "    </tr>\n",
              "    <tr>\n",
              "      <th>3</th>\n",
              "      <td>#workout</td>\n",
              "    </tr>\n",
              "  </tbody>\n",
              "</table>\n",
              "</div>"
            ],
            "text/plain": [
              "              hashtags\n",
              "0          #good#vibes\n",
              "1  #hot#summer#holiday\n",
              "2         #street#food\n",
              "3             #workout"
            ]
          },
          "metadata": {},
          "execution_count": 74
        }
      ]
    },
    {
      "cell_type": "code",
      "metadata": {
        "colab": {
          "base_uri": "https://localhost:8080/",
          "height": 173
        },
        "id": "RkZl5zYRG3N4",
        "outputId": "658e9e65-71c9-464d-933d-326daf3ebd27"
      },
      "source": [
        "df = df['hashtags'].str.split('#', expand=True)\n",
        "df = df.drop(columns=[0])\n",
        "df.columns = ['hashtag1', 'hashtag2', 'hashtag3']\n",
        "df.head()"
      ],
      "execution_count": null,
      "outputs": [
        {
          "output_type": "execute_result",
          "data": {
            "text/html": [
              "<div>\n",
              "<style scoped>\n",
              "    .dataframe tbody tr th:only-of-type {\n",
              "        vertical-align: middle;\n",
              "    }\n",
              "\n",
              "    .dataframe tbody tr th {\n",
              "        vertical-align: top;\n",
              "    }\n",
              "\n",
              "    .dataframe thead th {\n",
              "        text-align: right;\n",
              "    }\n",
              "</style>\n",
              "<table border=\"1\" class=\"dataframe\">\n",
              "  <thead>\n",
              "    <tr style=\"text-align: right;\">\n",
              "      <th></th>\n",
              "      <th>hashtag1</th>\n",
              "      <th>hashtag2</th>\n",
              "      <th>hashtag3</th>\n",
              "    </tr>\n",
              "  </thead>\n",
              "  <tbody>\n",
              "    <tr>\n",
              "      <th>0</th>\n",
              "      <td>good</td>\n",
              "      <td>vibes</td>\n",
              "      <td>None</td>\n",
              "    </tr>\n",
              "    <tr>\n",
              "      <th>1</th>\n",
              "      <td>hot</td>\n",
              "      <td>summer</td>\n",
              "      <td>holiday</td>\n",
              "    </tr>\n",
              "    <tr>\n",
              "      <th>2</th>\n",
              "      <td>street</td>\n",
              "      <td>food</td>\n",
              "      <td>None</td>\n",
              "    </tr>\n",
              "    <tr>\n",
              "      <th>3</th>\n",
              "      <td>workout</td>\n",
              "      <td>None</td>\n",
              "      <td>None</td>\n",
              "    </tr>\n",
              "  </tbody>\n",
              "</table>\n",
              "</div>"
            ],
            "text/plain": [
              "  hashtag1 hashtag2 hashtag3\n",
              "0     good    vibes     None\n",
              "1      hot   summer  holiday\n",
              "2   street     food     None\n",
              "3  workout     None     None"
            ]
          },
          "metadata": {},
          "execution_count": 75
        }
      ]
    },
    {
      "cell_type": "markdown",
      "metadata": {
        "id": "lvpnojzqJrrI"
      },
      "source": [
        "![2021-08-22 20_36_57-Machine Learning Bootcamp w języku Python cz.III - Ćwiczenia _ Udemy.png](data:image/png;base64,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)"
      ]
    },
    {
      "cell_type": "code",
      "metadata": {
        "colab": {
          "base_uri": "https://localhost:8080/",
          "height": 173
        },
        "id": "L2dIQHr_H4V3",
        "outputId": "4e012893-f412-40ca-9910-a4ab343e3f48"
      },
      "source": [
        "import pandas as pd\n",
        "\n",
        "df = pd.DataFrame(data={'hashtags': ['#good#vibes', '#hot#summer#holiday', '#street#food', '#workout']})\n",
        "df = df['hashtags'].str.split('#', expand=True)\n",
        "df = df.drop(columns=[0])\n",
        "df.columns = ['hashtag1', 'hashtag2', 'hashtag3']\n",
        "df.head()"
      ],
      "execution_count": null,
      "outputs": [
        {
          "output_type": "execute_result",
          "data": {
            "text/html": [
              "<div>\n",
              "<style scoped>\n",
              "    .dataframe tbody tr th:only-of-type {\n",
              "        vertical-align: middle;\n",
              "    }\n",
              "\n",
              "    .dataframe tbody tr th {\n",
              "        vertical-align: top;\n",
              "    }\n",
              "\n",
              "    .dataframe thead th {\n",
              "        text-align: right;\n",
              "    }\n",
              "</style>\n",
              "<table border=\"1\" class=\"dataframe\">\n",
              "  <thead>\n",
              "    <tr style=\"text-align: right;\">\n",
              "      <th></th>\n",
              "      <th>hashtag1</th>\n",
              "      <th>hashtag2</th>\n",
              "      <th>hashtag3</th>\n",
              "    </tr>\n",
              "  </thead>\n",
              "  <tbody>\n",
              "    <tr>\n",
              "      <th>0</th>\n",
              "      <td>good</td>\n",
              "      <td>vibes</td>\n",
              "      <td>None</td>\n",
              "    </tr>\n",
              "    <tr>\n",
              "      <th>1</th>\n",
              "      <td>hot</td>\n",
              "      <td>summer</td>\n",
              "      <td>holiday</td>\n",
              "    </tr>\n",
              "    <tr>\n",
              "      <th>2</th>\n",
              "      <td>street</td>\n",
              "      <td>food</td>\n",
              "      <td>None</td>\n",
              "    </tr>\n",
              "    <tr>\n",
              "      <th>3</th>\n",
              "      <td>workout</td>\n",
              "      <td>None</td>\n",
              "      <td>None</td>\n",
              "    </tr>\n",
              "  </tbody>\n",
              "</table>\n",
              "</div>"
            ],
            "text/plain": [
              "  hashtag1 hashtag2 hashtag3\n",
              "0     good    vibes     None\n",
              "1      hot   summer  holiday\n",
              "2   street     food     None\n",
              "3  workout     None     None"
            ]
          },
          "metadata": {},
          "execution_count": 77
        }
      ]
    },
    {
      "cell_type": "code",
      "metadata": {
        "colab": {
          "base_uri": "https://localhost:8080/",
          "height": 173
        },
        "id": "mgDXHCVuKOns",
        "outputId": "aac96004-a16e-4ab3-d1c6-e37fadc4994f"
      },
      "source": [
        "df['missing'] = df.isnull().sum(axis=1)\n",
        "df.head()"
      ],
      "execution_count": null,
      "outputs": [
        {
          "output_type": "execute_result",
          "data": {
            "text/html": [
              "<div>\n",
              "<style scoped>\n",
              "    .dataframe tbody tr th:only-of-type {\n",
              "        vertical-align: middle;\n",
              "    }\n",
              "\n",
              "    .dataframe tbody tr th {\n",
              "        vertical-align: top;\n",
              "    }\n",
              "\n",
              "    .dataframe thead th {\n",
              "        text-align: right;\n",
              "    }\n",
              "</style>\n",
              "<table border=\"1\" class=\"dataframe\">\n",
              "  <thead>\n",
              "    <tr style=\"text-align: right;\">\n",
              "      <th></th>\n",
              "      <th>hashtag1</th>\n",
              "      <th>hashtag2</th>\n",
              "      <th>hashtag3</th>\n",
              "      <th>missing</th>\n",
              "    </tr>\n",
              "  </thead>\n",
              "  <tbody>\n",
              "    <tr>\n",
              "      <th>0</th>\n",
              "      <td>good</td>\n",
              "      <td>vibes</td>\n",
              "      <td>None</td>\n",
              "      <td>1</td>\n",
              "    </tr>\n",
              "    <tr>\n",
              "      <th>1</th>\n",
              "      <td>hot</td>\n",
              "      <td>summer</td>\n",
              "      <td>holiday</td>\n",
              "      <td>0</td>\n",
              "    </tr>\n",
              "    <tr>\n",
              "      <th>2</th>\n",
              "      <td>street</td>\n",
              "      <td>food</td>\n",
              "      <td>None</td>\n",
              "      <td>1</td>\n",
              "    </tr>\n",
              "    <tr>\n",
              "      <th>3</th>\n",
              "      <td>workout</td>\n",
              "      <td>None</td>\n",
              "      <td>None</td>\n",
              "      <td>2</td>\n",
              "    </tr>\n",
              "  </tbody>\n",
              "</table>\n",
              "</div>"
            ],
            "text/plain": [
              "  hashtag1 hashtag2 hashtag3  missing\n",
              "0     good    vibes     None        1\n",
              "1      hot   summer  holiday        0\n",
              "2   street     food     None        1\n",
              "3  workout     None     None        2"
            ]
          },
          "metadata": {},
          "execution_count": 78
        }
      ]
    }
  ]
}